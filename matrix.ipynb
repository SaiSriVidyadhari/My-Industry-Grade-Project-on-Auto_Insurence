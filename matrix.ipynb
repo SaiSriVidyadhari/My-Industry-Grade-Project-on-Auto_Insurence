{
  "nbformat": 4,
  "nbformat_minor": 0,
  "metadata": {
    "colab": {
      "provenance": [],
      "authorship_tag": "ABX9TyOj43guJT2lnqi1w7upM3FM",
      "include_colab_link": true
    },
    "kernelspec": {
      "name": "python3",
      "display_name": "Python 3"
    },
    "language_info": {
      "name": "python"
    }
  },
  "cells": [
    {
      "cell_type": "markdown",
      "metadata": {
        "id": "view-in-github",
        "colab_type": "text"
      },
      "source": [
        "<a href=\"https://colab.research.google.com/github/SaiSriVidyadhari/SaiSriVidyadhari/blob/main/matrix.ipynb\" target=\"_parent\"><img src=\"https://colab.research.google.com/assets/colab-badge.svg\" alt=\"Open In Colab\"/></a>"
      ]
    },
    {
      "cell_type": "code",
      "execution_count": null,
      "metadata": {
        "id": "Yo-ZnFgNlJ7z"
      },
      "outputs": [],
      "source": [
        "import numpy as np"
      ]
    },
    {
      "cell_type": "code",
      "source": [
        "from numpy.linalg import eig,multi_dot\n",
        "A=np.array([[2,-3,0],\n",
        "            [2,-5,0],\n",
        "            [0,0,3]])\n",
        "w,v=eig(A)\n",
        "print(\"Eigen Value:\",w)\n",
        "print(\"Eigen Vector:\",v)"
      ],
      "metadata": {
        "colab": {
          "base_uri": "https://localhost:8080/"
        },
        "id": "PRRYHLqxQtak",
        "outputId": "7c5757af-461a-46d0-d65f-15a6f175cb03"
      },
      "execution_count": null,
      "outputs": [
        {
          "output_type": "stream",
          "name": "stdout",
          "text": [
            "Eigen Value: [ 1. -4.  3.]\n",
            "Eigen Vector: [[0.9486833  0.4472136  0.        ]\n",
            " [0.31622777 0.89442719 0.        ]\n",
            " [0.         0.         1.        ]]\n"
          ]
        }
      ]
    },
    {
      "cell_type": "code",
      "source": [
        "from numpy.linalg.linalg import eigvals\n",
        "x=eigvals(A)\n",
        "print(x)"
      ],
      "metadata": {
        "colab": {
          "base_uri": "https://localhost:8080/"
        },
        "id": "SXxHin5dnoaF",
        "outputId": "204e7f29-9018-45b8-c86d-b893b31873a5"
      },
      "execution_count": null,
      "outputs": [
        {
          "output_type": "stream",
          "name": "stdout",
          "text": [
            "[ 1. -4.  3.]\n"
          ]
        }
      ]
    },
    {
      "cell_type": "code",
      "source": [
        "A=np.array([[2,-3,0],\n",
        "            [2,-5,0],\n",
        "            [0,0,3]])\n",
        "B=np.array([[2,-6,3],\n",
        "            [8,-12,7],\n",
        "            [5,9,3]])"
      ],
      "metadata": {
        "id": "mKsLmjculLtS"
      },
      "execution_count": null,
      "outputs": []
    },
    {
      "cell_type": "code",
      "source": [
        "#from numpy.linalg import vdot\n",
        "np.dot(A,B)"
      ],
      "metadata": {
        "colab": {
          "base_uri": "https://localhost:8080/"
        },
        "id": "nDyHgpCZmIfJ",
        "outputId": "3cb336be-bffc-4c1a-df59-6db9621772df"
      },
      "execution_count": null,
      "outputs": [
        {
          "output_type": "execute_result",
          "data": {
            "text/plain": [
              "array([[-20,  24, -15],\n",
              "       [-36,  48, -29],\n",
              "       [ 15,  27,   9]])"
            ]
          },
          "metadata": {},
          "execution_count": 25
        }
      ]
    },
    {
      "cell_type": "code",
      "source": [
        "np.inner(A,B)"
      ],
      "metadata": {
        "colab": {
          "base_uri": "https://localhost:8080/"
        },
        "id": "fwhA0IJdnjb2",
        "outputId": "11537c8c-b1d0-4079-e619-3451ead10cef"
      },
      "execution_count": null,
      "outputs": [
        {
          "output_type": "execute_result",
          "data": {
            "text/plain": [
              "array([[ 22,  52, -17],\n",
              "       [ 34,  76, -35],\n",
              "       [  9,  21,   9]])"
            ]
          },
          "metadata": {},
          "execution_count": 26
        }
      ]
    },
    {
      "cell_type": "code",
      "source": [
        "np.outer(A,B)"
      ],
      "metadata": {
        "colab": {
          "base_uri": "https://localhost:8080/"
        },
        "id": "0uHIHG5cnjeT",
        "outputId": "577df4bc-a269-45f7-8cd6-9f862f6f7d23"
      },
      "execution_count": null,
      "outputs": [
        {
          "output_type": "execute_result",
          "data": {
            "text/plain": [
              "array([[  4, -12,   6,  16, -24,  14,  10,  18,   6],\n",
              "       [ -6,  18,  -9, -24,  36, -21, -15, -27,  -9],\n",
              "       [  0,   0,   0,   0,   0,   0,   0,   0,   0],\n",
              "       [  4, -12,   6,  16, -24,  14,  10,  18,   6],\n",
              "       [-10,  30, -15, -40,  60, -35, -25, -45, -15],\n",
              "       [  0,   0,   0,   0,   0,   0,   0,   0,   0],\n",
              "       [  0,   0,   0,   0,   0,   0,   0,   0,   0],\n",
              "       [  0,   0,   0,   0,   0,   0,   0,   0,   0],\n",
              "       [  6, -18,   9,  24, -36,  21,  15,  27,   9]])"
            ]
          },
          "metadata": {},
          "execution_count": 27
        }
      ]
    },
    {
      "cell_type": "code",
      "source": [
        "np.vdot(A,B)"
      ],
      "metadata": {
        "colab": {
          "base_uri": "https://localhost:8080/"
        },
        "id": "OafJH052njhs",
        "outputId": "78210206-e18e-471c-e4a6-4e1766bad9b2"
      },
      "execution_count": null,
      "outputs": [
        {
          "output_type": "execute_result",
          "data": {
            "text/plain": [
              "107"
            ]
          },
          "metadata": {},
          "execution_count": 28
        }
      ]
    },
    {
      "cell_type": "code",
      "source": [
        "np.linalg.matrix_power(A,2)"
      ],
      "metadata": {
        "colab": {
          "base_uri": "https://localhost:8080/"
        },
        "id": "YECGCRY5n3q4",
        "outputId": "0c675ea9-4731-4995-9330-7a97b24d30f7"
      },
      "execution_count": null,
      "outputs": [
        {
          "output_type": "execute_result",
          "data": {
            "text/plain": [
              "array([[-2,  9,  0],\n",
              "       [-6, 19,  0],\n",
              "       [ 0,  0,  9]])"
            ]
          },
          "metadata": {},
          "execution_count": 29
        }
      ]
    },
    {
      "cell_type": "code",
      "source": [
        "np.linalg.eig(A)"
      ],
      "metadata": {
        "colab": {
          "base_uri": "https://localhost:8080/"
        },
        "id": "0bbSlFvbosAp",
        "outputId": "183086f3-5ec8-454e-c6fc-b7fa8dee6500"
      },
      "execution_count": null,
      "outputs": [
        {
          "output_type": "execute_result",
          "data": {
            "text/plain": [
              "(array([ 1., -4.,  3.]), array([[0.9486833 , 0.4472136 , 0.        ],\n",
              "        [0.31622777, 0.89442719, 0.        ],\n",
              "        [0.        , 0.        , 1.        ]]))"
            ]
          },
          "metadata": {},
          "execution_count": 30
        }
      ]
    },
    {
      "cell_type": "code",
      "source": [
        "np.linalg.eig(B)"
      ],
      "metadata": {
        "colab": {
          "base_uri": "https://localhost:8080/"
        },
        "id": "1KurD3J4pDdK",
        "outputId": "90369e59-e41c-46dc-bb83-707a32d53af9"
      },
      "execution_count": null,
      "outputs": [
        {
          "output_type": "execute_result",
          "data": {
            "text/plain": [
              "(array([  7.2038972 ,  -1.43500422, -12.76889298]),\n",
              " array([[-0.09723188, -0.66065842, -0.4080884 ],\n",
              "        [-0.37634988, -0.00288686, -0.73115332],\n",
              "        [-0.92136134,  0.7506811 ,  0.54669798]]))"
            ]
          },
          "metadata": {},
          "execution_count": 31
        }
      ]
    },
    {
      "cell_type": "code",
      "source": [
        "np.linalg.det(B)"
      ],
      "metadata": {
        "colab": {
          "base_uri": "https://localhost:8080/"
        },
        "id": "b7G-zwFlrtZj",
        "outputId": "6d1a1dca-5492-48e8-d0a1-8fc35a072823"
      },
      "execution_count": null,
      "outputs": [
        {
          "output_type": "execute_result",
          "data": {
            "text/plain": [
              "131.99999999999997"
            ]
          },
          "metadata": {},
          "execution_count": 32
        }
      ]
    },
    {
      "cell_type": "code",
      "source": [
        "np.linalg.matrix_rank(A)"
      ],
      "metadata": {
        "colab": {
          "base_uri": "https://localhost:8080/"
        },
        "id": "IdItbSYCrtle",
        "outputId": "f82e5d37-5e8c-4d7f-a054-3e92ee457947"
      },
      "execution_count": null,
      "outputs": [
        {
          "output_type": "execute_result",
          "data": {
            "text/plain": [
              "3"
            ]
          },
          "metadata": {},
          "execution_count": 33
        }
      ]
    },
    {
      "cell_type": "code",
      "source": [
        "np.linalg.solve(A,B)"
      ],
      "metadata": {
        "colab": {
          "base_uri": "https://localhost:8080/"
        },
        "id": "M3PrienUsE7I",
        "outputId": "808352e0-4c26-426d-d0ee-5edd63c01023"
      },
      "execution_count": null,
      "outputs": [
        {
          "output_type": "execute_result",
          "data": {
            "text/plain": [
              "array([[-3.5       ,  1.5       , -1.5       ],\n",
              "       [-3.        ,  3.        , -2.        ],\n",
              "       [ 1.66666667,  3.        ,  1.        ]])"
            ]
          },
          "metadata": {},
          "execution_count": 34
        }
      ]
    },
    {
      "cell_type": "code",
      "source": [
        "np.linalg.inv(A)"
      ],
      "metadata": {
        "colab": {
          "base_uri": "https://localhost:8080/"
        },
        "id": "nDBL78Q1sP1G",
        "outputId": "75a879f8-3abf-4229-9006-40820af0325d"
      },
      "execution_count": null,
      "outputs": [
        {
          "output_type": "execute_result",
          "data": {
            "text/plain": [
              "array([[ 1.25      , -0.75      ,  0.        ],\n",
              "       [ 0.5       , -0.5       , -0.        ],\n",
              "       [ 0.        ,  0.        ,  0.33333333]])"
            ]
          },
          "metadata": {},
          "execution_count": 35
        }
      ]
    },
    {
      "cell_type": "code",
      "source": [
        "np.trace(A)"
      ],
      "metadata": {
        "colab": {
          "base_uri": "https://localhost:8080/"
        },
        "id": "IP0f3UoBwDwv",
        "outputId": "83a92c08-c73a-4af4-e7cf-42db94dd6637"
      },
      "execution_count": null,
      "outputs": [
        {
          "output_type": "execute_result",
          "data": {
            "text/plain": [
              "0"
            ]
          },
          "metadata": {},
          "execution_count": 37
        }
      ]
    }
  ]
}