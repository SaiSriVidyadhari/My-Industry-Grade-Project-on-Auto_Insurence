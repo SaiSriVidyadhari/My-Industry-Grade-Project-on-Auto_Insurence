{
  "cells": [
    {
      "cell_type": "markdown",
      "metadata": {
        "id": "view-in-github",
        "colab_type": "text"
      },
      "source": [
        "<a href=\"https://colab.research.google.com/github/SaiSriVidyadhari/SaiSriVidyadhari/blob/main/Industry_Graded_Project.ipynb\" target=\"_parent\"><img src=\"https://colab.research.google.com/assets/colab-badge.svg\" alt=\"Open In Colab\"/></a>"
      ]
    },
    {
      "cell_type": "markdown",
      "metadata": {
        "id": "gHWaLE-66PSI"
      },
      "source": [
        "\n",
        "**Marks Allocation**\n",
        "1. Exploratory data Analysis [18 x 2 Marks]\n",
        "2. Modeling [16 x 3 Marks]\n",
        "3. Project report/synopsis with detailed .ipynb(With best Markdown explanation) [16 Marks]"
      ]
    },
    {
      "cell_type": "markdown",
      "metadata": {
        "id": "9KuFfYYnpEH6"
      },
      "source": [
        "**Exploratory Data Analysis:**"
      ]
    },
    {
      "cell_type": "code",
      "execution_count": null,
      "metadata": {
        "id": "I1O_eu8Kn7R6"
      },
      "outputs": [],
      "source": [
        "#importing required libraries\n",
        "import pandas as pd # data preprocessing, read the csv file\n",
        "import numpy as np #linear algebra\n",
        "import matplotlib.pyplot as plt\n",
        "%matplotlib inline\n",
        "import seaborn as sns\n",
        "from datetime import datetime\n",
        "from scipy.stats import stats"
      ]
    },
    {
      "cell_type": "code",
      "execution_count": null,
      "metadata": {
        "colab": {
          "base_uri": "https://localhost:8080/"
        },
        "id": "Q6uLoVvCrJ3F",
        "outputId": "d6163b90-d4fa-42d2-a1c3-17b759aa0ab7"
      },
      "outputs": [
        {
          "output_type": "stream",
          "name": "stdout",
          "text": [
            "data shape (595212, 59)\n"
          ]
        }
      ],
      "source": [
        "# to read the file & to get the data shape\n",
        "data=pd.read_csv(\"/content/train(1).csv\")\n",
        "train=data.copy()\n",
        "print(\"data shape\",data.shape)"
      ]
    },
    {
      "cell_type": "code",
      "execution_count": null,
      "metadata": {
        "colab": {
          "base_uri": "https://localhost:8080/",
          "height": 427
        },
        "id": "BwHu-kAXRZkG",
        "outputId": "278f977e-5054-4783-f529-daa82a8dacfc"
      },
      "outputs": [
        {
          "output_type": "execute_result",
          "data": {
            "text/html": [
              "\n",
              "  <div id=\"df-438281e9-4f6b-4232-98c5-95a651a13e8d\">\n",
              "    <div class=\"colab-df-container\">\n",
              "      <div>\n",
              "<style scoped>\n",
              "    .dataframe tbody tr th:only-of-type {\n",
              "        vertical-align: middle;\n",
              "    }\n",
              "\n",
              "    .dataframe tbody tr th {\n",
              "        vertical-align: top;\n",
              "    }\n",
              "\n",
              "    .dataframe thead th {\n",
              "        text-align: right;\n",
              "    }\n",
              "</style>\n",
              "<table border=\"1\" class=\"dataframe\">\n",
              "  <thead>\n",
              "    <tr style=\"text-align: right;\">\n",
              "      <th></th>\n",
              "      <th>id</th>\n",
              "      <th>target</th>\n",
              "      <th>ps_ind_01</th>\n",
              "      <th>ps_ind_02_cat</th>\n",
              "      <th>ps_ind_03</th>\n",
              "      <th>ps_ind_04_cat</th>\n",
              "      <th>ps_ind_05_cat</th>\n",
              "      <th>ps_ind_06_bin</th>\n",
              "      <th>ps_ind_07_bin</th>\n",
              "      <th>ps_ind_08_bin</th>\n",
              "      <th>ps_ind_09_bin</th>\n",
              "      <th>ps_ind_10_bin</th>\n",
              "      <th>ps_ind_11_bin</th>\n",
              "      <th>ps_ind_12_bin</th>\n",
              "      <th>ps_ind_13_bin</th>\n",
              "      <th>ps_ind_14</th>\n",
              "      <th>ps_ind_15</th>\n",
              "      <th>ps_ind_16_bin</th>\n",
              "      <th>ps_ind_17_bin</th>\n",
              "      <th>ps_ind_18_bin</th>\n",
              "      <th>ps_reg_01</th>\n",
              "      <th>ps_reg_02</th>\n",
              "      <th>ps_reg_03</th>\n",
              "      <th>ps_car_01_cat</th>\n",
              "      <th>ps_car_02_cat</th>\n",
              "      <th>ps_car_03_cat</th>\n",
              "      <th>ps_car_04_cat</th>\n",
              "      <th>ps_car_05_cat</th>\n",
              "      <th>ps_car_06_cat</th>\n",
              "      <th>ps_car_07_cat</th>\n",
              "      <th>ps_car_08_cat</th>\n",
              "      <th>ps_car_09_cat</th>\n",
              "      <th>ps_car_10_cat</th>\n",
              "      <th>ps_car_11_cat</th>\n",
              "      <th>ps_car_11</th>\n",
              "      <th>ps_car_12</th>\n",
              "      <th>ps_car_13</th>\n",
              "      <th>ps_car_14</th>\n",
              "      <th>ps_car_15</th>\n",
              "      <th>ps_calc_01</th>\n",
              "      <th>ps_calc_02</th>\n",
              "      <th>ps_calc_03</th>\n",
              "      <th>ps_calc_04</th>\n",
              "      <th>ps_calc_05</th>\n",
              "      <th>ps_calc_06</th>\n",
              "      <th>ps_calc_07</th>\n",
              "      <th>ps_calc_08</th>\n",
              "      <th>ps_calc_09</th>\n",
              "      <th>ps_calc_10</th>\n",
              "      <th>ps_calc_11</th>\n",
              "      <th>ps_calc_12</th>\n",
              "      <th>ps_calc_13</th>\n",
              "      <th>ps_calc_14</th>\n",
              "      <th>ps_calc_15_bin</th>\n",
              "      <th>ps_calc_16_bin</th>\n",
              "      <th>ps_calc_17_bin</th>\n",
              "      <th>ps_calc_18_bin</th>\n",
              "      <th>ps_calc_19_bin</th>\n",
              "      <th>ps_calc_20_bin</th>\n",
              "    </tr>\n",
              "  </thead>\n",
              "  <tbody>\n",
              "    <tr>\n",
              "      <th>0</th>\n",
              "      <td>7</td>\n",
              "      <td>0</td>\n",
              "      <td>2</td>\n",
              "      <td>2</td>\n",
              "      <td>5</td>\n",
              "      <td>1</td>\n",
              "      <td>0</td>\n",
              "      <td>0</td>\n",
              "      <td>1</td>\n",
              "      <td>0</td>\n",
              "      <td>0</td>\n",
              "      <td>0</td>\n",
              "      <td>0</td>\n",
              "      <td>0</td>\n",
              "      <td>0</td>\n",
              "      <td>0</td>\n",
              "      <td>11</td>\n",
              "      <td>0</td>\n",
              "      <td>1</td>\n",
              "      <td>0</td>\n",
              "      <td>0.7</td>\n",
              "      <td>0.2</td>\n",
              "      <td>0.718070</td>\n",
              "      <td>10</td>\n",
              "      <td>1</td>\n",
              "      <td>-1</td>\n",
              "      <td>0</td>\n",
              "      <td>1</td>\n",
              "      <td>4</td>\n",
              "      <td>1</td>\n",
              "      <td>0</td>\n",
              "      <td>0</td>\n",
              "      <td>1</td>\n",
              "      <td>12</td>\n",
              "      <td>2</td>\n",
              "      <td>0.400000</td>\n",
              "      <td>0.883679</td>\n",
              "      <td>0.370810</td>\n",
              "      <td>3.605551</td>\n",
              "      <td>0.6</td>\n",
              "      <td>0.5</td>\n",
              "      <td>0.2</td>\n",
              "      <td>3</td>\n",
              "      <td>1</td>\n",
              "      <td>10</td>\n",
              "      <td>1</td>\n",
              "      <td>10</td>\n",
              "      <td>1</td>\n",
              "      <td>5</td>\n",
              "      <td>9</td>\n",
              "      <td>1</td>\n",
              "      <td>5</td>\n",
              "      <td>8</td>\n",
              "      <td>0</td>\n",
              "      <td>1</td>\n",
              "      <td>1</td>\n",
              "      <td>0</td>\n",
              "      <td>0</td>\n",
              "      <td>1</td>\n",
              "    </tr>\n",
              "    <tr>\n",
              "      <th>1</th>\n",
              "      <td>9</td>\n",
              "      <td>0</td>\n",
              "      <td>1</td>\n",
              "      <td>1</td>\n",
              "      <td>7</td>\n",
              "      <td>0</td>\n",
              "      <td>0</td>\n",
              "      <td>0</td>\n",
              "      <td>0</td>\n",
              "      <td>1</td>\n",
              "      <td>0</td>\n",
              "      <td>0</td>\n",
              "      <td>0</td>\n",
              "      <td>0</td>\n",
              "      <td>0</td>\n",
              "      <td>0</td>\n",
              "      <td>3</td>\n",
              "      <td>0</td>\n",
              "      <td>0</td>\n",
              "      <td>1</td>\n",
              "      <td>0.8</td>\n",
              "      <td>0.4</td>\n",
              "      <td>0.766078</td>\n",
              "      <td>11</td>\n",
              "      <td>1</td>\n",
              "      <td>-1</td>\n",
              "      <td>0</td>\n",
              "      <td>-1</td>\n",
              "      <td>11</td>\n",
              "      <td>1</td>\n",
              "      <td>1</td>\n",
              "      <td>2</td>\n",
              "      <td>1</td>\n",
              "      <td>19</td>\n",
              "      <td>3</td>\n",
              "      <td>0.316228</td>\n",
              "      <td>0.618817</td>\n",
              "      <td>0.388716</td>\n",
              "      <td>2.449490</td>\n",
              "      <td>0.3</td>\n",
              "      <td>0.1</td>\n",
              "      <td>0.3</td>\n",
              "      <td>2</td>\n",
              "      <td>1</td>\n",
              "      <td>9</td>\n",
              "      <td>5</td>\n",
              "      <td>8</td>\n",
              "      <td>1</td>\n",
              "      <td>7</td>\n",
              "      <td>3</td>\n",
              "      <td>1</td>\n",
              "      <td>1</td>\n",
              "      <td>9</td>\n",
              "      <td>0</td>\n",
              "      <td>1</td>\n",
              "      <td>1</td>\n",
              "      <td>0</td>\n",
              "      <td>1</td>\n",
              "      <td>0</td>\n",
              "    </tr>\n",
              "    <tr>\n",
              "      <th>2</th>\n",
              "      <td>13</td>\n",
              "      <td>0</td>\n",
              "      <td>5</td>\n",
              "      <td>4</td>\n",
              "      <td>9</td>\n",
              "      <td>1</td>\n",
              "      <td>0</td>\n",
              "      <td>0</td>\n",
              "      <td>0</td>\n",
              "      <td>1</td>\n",
              "      <td>0</td>\n",
              "      <td>0</td>\n",
              "      <td>0</td>\n",
              "      <td>0</td>\n",
              "      <td>0</td>\n",
              "      <td>0</td>\n",
              "      <td>12</td>\n",
              "      <td>1</td>\n",
              "      <td>0</td>\n",
              "      <td>0</td>\n",
              "      <td>0.0</td>\n",
              "      <td>0.0</td>\n",
              "      <td>-1.000000</td>\n",
              "      <td>7</td>\n",
              "      <td>1</td>\n",
              "      <td>-1</td>\n",
              "      <td>0</td>\n",
              "      <td>-1</td>\n",
              "      <td>14</td>\n",
              "      <td>1</td>\n",
              "      <td>1</td>\n",
              "      <td>2</td>\n",
              "      <td>1</td>\n",
              "      <td>60</td>\n",
              "      <td>1</td>\n",
              "      <td>0.316228</td>\n",
              "      <td>0.641586</td>\n",
              "      <td>0.347275</td>\n",
              "      <td>3.316625</td>\n",
              "      <td>0.5</td>\n",
              "      <td>0.7</td>\n",
              "      <td>0.1</td>\n",
              "      <td>2</td>\n",
              "      <td>2</td>\n",
              "      <td>9</td>\n",
              "      <td>1</td>\n",
              "      <td>8</td>\n",
              "      <td>2</td>\n",
              "      <td>7</td>\n",
              "      <td>4</td>\n",
              "      <td>2</td>\n",
              "      <td>7</td>\n",
              "      <td>7</td>\n",
              "      <td>0</td>\n",
              "      <td>1</td>\n",
              "      <td>1</td>\n",
              "      <td>0</td>\n",
              "      <td>1</td>\n",
              "      <td>0</td>\n",
              "    </tr>\n",
              "    <tr>\n",
              "      <th>3</th>\n",
              "      <td>16</td>\n",
              "      <td>0</td>\n",
              "      <td>0</td>\n",
              "      <td>1</td>\n",
              "      <td>2</td>\n",
              "      <td>0</td>\n",
              "      <td>0</td>\n",
              "      <td>1</td>\n",
              "      <td>0</td>\n",
              "      <td>0</td>\n",
              "      <td>0</td>\n",
              "      <td>0</td>\n",
              "      <td>0</td>\n",
              "      <td>0</td>\n",
              "      <td>0</td>\n",
              "      <td>0</td>\n",
              "      <td>8</td>\n",
              "      <td>1</td>\n",
              "      <td>0</td>\n",
              "      <td>0</td>\n",
              "      <td>0.9</td>\n",
              "      <td>0.2</td>\n",
              "      <td>0.580948</td>\n",
              "      <td>7</td>\n",
              "      <td>1</td>\n",
              "      <td>0</td>\n",
              "      <td>0</td>\n",
              "      <td>1</td>\n",
              "      <td>11</td>\n",
              "      <td>1</td>\n",
              "      <td>1</td>\n",
              "      <td>3</td>\n",
              "      <td>1</td>\n",
              "      <td>104</td>\n",
              "      <td>1</td>\n",
              "      <td>0.374166</td>\n",
              "      <td>0.542949</td>\n",
              "      <td>0.294958</td>\n",
              "      <td>2.000000</td>\n",
              "      <td>0.6</td>\n",
              "      <td>0.9</td>\n",
              "      <td>0.1</td>\n",
              "      <td>2</td>\n",
              "      <td>4</td>\n",
              "      <td>7</td>\n",
              "      <td>1</td>\n",
              "      <td>8</td>\n",
              "      <td>4</td>\n",
              "      <td>2</td>\n",
              "      <td>2</td>\n",
              "      <td>2</td>\n",
              "      <td>4</td>\n",
              "      <td>9</td>\n",
              "      <td>0</td>\n",
              "      <td>0</td>\n",
              "      <td>0</td>\n",
              "      <td>0</td>\n",
              "      <td>0</td>\n",
              "      <td>0</td>\n",
              "    </tr>\n",
              "    <tr>\n",
              "      <th>4</th>\n",
              "      <td>17</td>\n",
              "      <td>0</td>\n",
              "      <td>0</td>\n",
              "      <td>2</td>\n",
              "      <td>0</td>\n",
              "      <td>1</td>\n",
              "      <td>0</td>\n",
              "      <td>1</td>\n",
              "      <td>0</td>\n",
              "      <td>0</td>\n",
              "      <td>0</td>\n",
              "      <td>0</td>\n",
              "      <td>0</td>\n",
              "      <td>0</td>\n",
              "      <td>0</td>\n",
              "      <td>0</td>\n",
              "      <td>9</td>\n",
              "      <td>1</td>\n",
              "      <td>0</td>\n",
              "      <td>0</td>\n",
              "      <td>0.7</td>\n",
              "      <td>0.6</td>\n",
              "      <td>0.840759</td>\n",
              "      <td>11</td>\n",
              "      <td>1</td>\n",
              "      <td>-1</td>\n",
              "      <td>0</td>\n",
              "      <td>-1</td>\n",
              "      <td>14</td>\n",
              "      <td>1</td>\n",
              "      <td>1</td>\n",
              "      <td>2</td>\n",
              "      <td>1</td>\n",
              "      <td>82</td>\n",
              "      <td>3</td>\n",
              "      <td>0.316070</td>\n",
              "      <td>0.565832</td>\n",
              "      <td>0.365103</td>\n",
              "      <td>2.000000</td>\n",
              "      <td>0.4</td>\n",
              "      <td>0.6</td>\n",
              "      <td>0.0</td>\n",
              "      <td>2</td>\n",
              "      <td>2</td>\n",
              "      <td>6</td>\n",
              "      <td>3</td>\n",
              "      <td>10</td>\n",
              "      <td>2</td>\n",
              "      <td>12</td>\n",
              "      <td>3</td>\n",
              "      <td>1</td>\n",
              "      <td>1</td>\n",
              "      <td>3</td>\n",
              "      <td>0</td>\n",
              "      <td>0</td>\n",
              "      <td>0</td>\n",
              "      <td>1</td>\n",
              "      <td>1</td>\n",
              "      <td>0</td>\n",
              "    </tr>\n",
              "    <tr>\n",
              "      <th>5</th>\n",
              "      <td>19</td>\n",
              "      <td>0</td>\n",
              "      <td>5</td>\n",
              "      <td>1</td>\n",
              "      <td>4</td>\n",
              "      <td>0</td>\n",
              "      <td>0</td>\n",
              "      <td>0</td>\n",
              "      <td>0</td>\n",
              "      <td>0</td>\n",
              "      <td>1</td>\n",
              "      <td>0</td>\n",
              "      <td>0</td>\n",
              "      <td>0</td>\n",
              "      <td>0</td>\n",
              "      <td>0</td>\n",
              "      <td>6</td>\n",
              "      <td>1</td>\n",
              "      <td>0</td>\n",
              "      <td>0</td>\n",
              "      <td>0.9</td>\n",
              "      <td>1.8</td>\n",
              "      <td>2.332649</td>\n",
              "      <td>10</td>\n",
              "      <td>0</td>\n",
              "      <td>-1</td>\n",
              "      <td>0</td>\n",
              "      <td>0</td>\n",
              "      <td>14</td>\n",
              "      <td>1</td>\n",
              "      <td>1</td>\n",
              "      <td>0</td>\n",
              "      <td>1</td>\n",
              "      <td>104</td>\n",
              "      <td>2</td>\n",
              "      <td>0.445982</td>\n",
              "      <td>0.879049</td>\n",
              "      <td>0.406202</td>\n",
              "      <td>3.000000</td>\n",
              "      <td>0.7</td>\n",
              "      <td>0.8</td>\n",
              "      <td>0.4</td>\n",
              "      <td>3</td>\n",
              "      <td>1</td>\n",
              "      <td>8</td>\n",
              "      <td>2</td>\n",
              "      <td>11</td>\n",
              "      <td>3</td>\n",
              "      <td>8</td>\n",
              "      <td>4</td>\n",
              "      <td>2</td>\n",
              "      <td>0</td>\n",
              "      <td>9</td>\n",
              "      <td>0</td>\n",
              "      <td>1</td>\n",
              "      <td>0</td>\n",
              "      <td>1</td>\n",
              "      <td>1</td>\n",
              "      <td>1</td>\n",
              "    </tr>\n",
              "    <tr>\n",
              "      <th>6</th>\n",
              "      <td>20</td>\n",
              "      <td>0</td>\n",
              "      <td>2</td>\n",
              "      <td>1</td>\n",
              "      <td>3</td>\n",
              "      <td>1</td>\n",
              "      <td>0</td>\n",
              "      <td>0</td>\n",
              "      <td>1</td>\n",
              "      <td>0</td>\n",
              "      <td>0</td>\n",
              "      <td>0</td>\n",
              "      <td>0</td>\n",
              "      <td>0</td>\n",
              "      <td>0</td>\n",
              "      <td>0</td>\n",
              "      <td>8</td>\n",
              "      <td>1</td>\n",
              "      <td>0</td>\n",
              "      <td>0</td>\n",
              "      <td>0.6</td>\n",
              "      <td>0.1</td>\n",
              "      <td>0.617454</td>\n",
              "      <td>6</td>\n",
              "      <td>1</td>\n",
              "      <td>-1</td>\n",
              "      <td>0</td>\n",
              "      <td>1</td>\n",
              "      <td>11</td>\n",
              "      <td>1</td>\n",
              "      <td>1</td>\n",
              "      <td>0</td>\n",
              "      <td>1</td>\n",
              "      <td>99</td>\n",
              "      <td>2</td>\n",
              "      <td>0.316228</td>\n",
              "      <td>0.639683</td>\n",
              "      <td>0.368782</td>\n",
              "      <td>3.162278</td>\n",
              "      <td>0.2</td>\n",
              "      <td>0.6</td>\n",
              "      <td>0.5</td>\n",
              "      <td>2</td>\n",
              "      <td>2</td>\n",
              "      <td>8</td>\n",
              "      <td>1</td>\n",
              "      <td>8</td>\n",
              "      <td>3</td>\n",
              "      <td>10</td>\n",
              "      <td>3</td>\n",
              "      <td>0</td>\n",
              "      <td>0</td>\n",
              "      <td>10</td>\n",
              "      <td>0</td>\n",
              "      <td>1</td>\n",
              "      <td>0</td>\n",
              "      <td>0</td>\n",
              "      <td>1</td>\n",
              "      <td>0</td>\n",
              "    </tr>\n",
              "    <tr>\n",
              "      <th>7</th>\n",
              "      <td>22</td>\n",
              "      <td>0</td>\n",
              "      <td>5</td>\n",
              "      <td>1</td>\n",
              "      <td>4</td>\n",
              "      <td>0</td>\n",
              "      <td>0</td>\n",
              "      <td>1</td>\n",
              "      <td>0</td>\n",
              "      <td>0</td>\n",
              "      <td>0</td>\n",
              "      <td>0</td>\n",
              "      <td>0</td>\n",
              "      <td>0</td>\n",
              "      <td>0</td>\n",
              "      <td>0</td>\n",
              "      <td>13</td>\n",
              "      <td>1</td>\n",
              "      <td>0</td>\n",
              "      <td>0</td>\n",
              "      <td>0.7</td>\n",
              "      <td>0.4</td>\n",
              "      <td>0.607248</td>\n",
              "      <td>11</td>\n",
              "      <td>1</td>\n",
              "      <td>0</td>\n",
              "      <td>0</td>\n",
              "      <td>0</td>\n",
              "      <td>11</td>\n",
              "      <td>1</td>\n",
              "      <td>1</td>\n",
              "      <td>2</td>\n",
              "      <td>1</td>\n",
              "      <td>30</td>\n",
              "      <td>3</td>\n",
              "      <td>0.446990</td>\n",
              "      <td>0.900574</td>\n",
              "      <td>0.374833</td>\n",
              "      <td>3.316625</td>\n",
              "      <td>0.1</td>\n",
              "      <td>0.5</td>\n",
              "      <td>0.1</td>\n",
              "      <td>1</td>\n",
              "      <td>2</td>\n",
              "      <td>7</td>\n",
              "      <td>1</td>\n",
              "      <td>6</td>\n",
              "      <td>1</td>\n",
              "      <td>13</td>\n",
              "      <td>7</td>\n",
              "      <td>1</td>\n",
              "      <td>3</td>\n",
              "      <td>6</td>\n",
              "      <td>1</td>\n",
              "      <td>0</td>\n",
              "      <td>1</td>\n",
              "      <td>0</td>\n",
              "      <td>1</td>\n",
              "      <td>0</td>\n",
              "    </tr>\n",
              "    <tr>\n",
              "      <th>8</th>\n",
              "      <td>26</td>\n",
              "      <td>0</td>\n",
              "      <td>5</td>\n",
              "      <td>1</td>\n",
              "      <td>3</td>\n",
              "      <td>1</td>\n",
              "      <td>0</td>\n",
              "      <td>0</td>\n",
              "      <td>0</td>\n",
              "      <td>1</td>\n",
              "      <td>0</td>\n",
              "      <td>0</td>\n",
              "      <td>0</td>\n",
              "      <td>0</td>\n",
              "      <td>0</td>\n",
              "      <td>0</td>\n",
              "      <td>6</td>\n",
              "      <td>1</td>\n",
              "      <td>0</td>\n",
              "      <td>0</td>\n",
              "      <td>0.9</td>\n",
              "      <td>0.7</td>\n",
              "      <td>0.901388</td>\n",
              "      <td>10</td>\n",
              "      <td>1</td>\n",
              "      <td>-1</td>\n",
              "      <td>0</td>\n",
              "      <td>1</td>\n",
              "      <td>14</td>\n",
              "      <td>1</td>\n",
              "      <td>1</td>\n",
              "      <td>0</td>\n",
              "      <td>1</td>\n",
              "      <td>68</td>\n",
              "      <td>3</td>\n",
              "      <td>0.400000</td>\n",
              "      <td>0.780641</td>\n",
              "      <td>0.407431</td>\n",
              "      <td>2.828427</td>\n",
              "      <td>0.9</td>\n",
              "      <td>0.8</td>\n",
              "      <td>0.6</td>\n",
              "      <td>3</td>\n",
              "      <td>1</td>\n",
              "      <td>7</td>\n",
              "      <td>3</td>\n",
              "      <td>9</td>\n",
              "      <td>4</td>\n",
              "      <td>11</td>\n",
              "      <td>4</td>\n",
              "      <td>2</td>\n",
              "      <td>1</td>\n",
              "      <td>5</td>\n",
              "      <td>0</td>\n",
              "      <td>1</td>\n",
              "      <td>0</td>\n",
              "      <td>0</td>\n",
              "      <td>0</td>\n",
              "      <td>1</td>\n",
              "    </tr>\n",
              "    <tr>\n",
              "      <th>9</th>\n",
              "      <td>28</td>\n",
              "      <td>1</td>\n",
              "      <td>1</td>\n",
              "      <td>1</td>\n",
              "      <td>2</td>\n",
              "      <td>0</td>\n",
              "      <td>0</td>\n",
              "      <td>0</td>\n",
              "      <td>1</td>\n",
              "      <td>0</td>\n",
              "      <td>0</td>\n",
              "      <td>0</td>\n",
              "      <td>0</td>\n",
              "      <td>0</td>\n",
              "      <td>0</td>\n",
              "      <td>0</td>\n",
              "      <td>4</td>\n",
              "      <td>0</td>\n",
              "      <td>0</td>\n",
              "      <td>1</td>\n",
              "      <td>0.9</td>\n",
              "      <td>1.4</td>\n",
              "      <td>2.316652</td>\n",
              "      <td>11</td>\n",
              "      <td>0</td>\n",
              "      <td>0</td>\n",
              "      <td>1</td>\n",
              "      <td>0</td>\n",
              "      <td>14</td>\n",
              "      <td>1</td>\n",
              "      <td>1</td>\n",
              "      <td>2</td>\n",
              "      <td>1</td>\n",
              "      <td>104</td>\n",
              "      <td>2</td>\n",
              "      <td>0.447214</td>\n",
              "      <td>1.458184</td>\n",
              "      <td>0.390256</td>\n",
              "      <td>3.605551</td>\n",
              "      <td>0.7</td>\n",
              "      <td>0.8</td>\n",
              "      <td>0.8</td>\n",
              "      <td>2</td>\n",
              "      <td>2</td>\n",
              "      <td>8</td>\n",
              "      <td>2</td>\n",
              "      <td>9</td>\n",
              "      <td>1</td>\n",
              "      <td>11</td>\n",
              "      <td>3</td>\n",
              "      <td>5</td>\n",
              "      <td>0</td>\n",
              "      <td>6</td>\n",
              "      <td>0</td>\n",
              "      <td>1</td>\n",
              "      <td>0</td>\n",
              "      <td>0</td>\n",
              "      <td>1</td>\n",
              "      <td>0</td>\n",
              "    </tr>\n",
              "  </tbody>\n",
              "</table>\n",
              "</div>\n",
              "      <button class=\"colab-df-convert\" onclick=\"convertToInteractive('df-438281e9-4f6b-4232-98c5-95a651a13e8d')\"\n",
              "              title=\"Convert this dataframe to an interactive table.\"\n",
              "              style=\"display:none;\">\n",
              "        \n",
              "  <svg xmlns=\"http://www.w3.org/2000/svg\" height=\"24px\"viewBox=\"0 0 24 24\"\n",
              "       width=\"24px\">\n",
              "    <path d=\"M0 0h24v24H0V0z\" fill=\"none\"/>\n",
              "    <path d=\"M18.56 5.44l.94 2.06.94-2.06 2.06-.94-2.06-.94-.94-2.06-.94 2.06-2.06.94zm-11 1L8.5 8.5l.94-2.06 2.06-.94-2.06-.94L8.5 2.5l-.94 2.06-2.06.94zm10 10l.94 2.06.94-2.06 2.06-.94-2.06-.94-.94-2.06-.94 2.06-2.06.94z\"/><path d=\"M17.41 7.96l-1.37-1.37c-.4-.4-.92-.59-1.43-.59-.52 0-1.04.2-1.43.59L10.3 9.45l-7.72 7.72c-.78.78-.78 2.05 0 2.83L4 21.41c.39.39.9.59 1.41.59.51 0 1.02-.2 1.41-.59l7.78-7.78 2.81-2.81c.8-.78.8-2.07 0-2.86zM5.41 20L4 18.59l7.72-7.72 1.47 1.35L5.41 20z\"/>\n",
              "  </svg>\n",
              "      </button>\n",
              "      \n",
              "  <style>\n",
              "    .colab-df-container {\n",
              "      display:flex;\n",
              "      flex-wrap:wrap;\n",
              "      gap: 12px;\n",
              "    }\n",
              "\n",
              "    .colab-df-convert {\n",
              "      background-color: #E8F0FE;\n",
              "      border: none;\n",
              "      border-radius: 50%;\n",
              "      cursor: pointer;\n",
              "      display: none;\n",
              "      fill: #1967D2;\n",
              "      height: 32px;\n",
              "      padding: 0 0 0 0;\n",
              "      width: 32px;\n",
              "    }\n",
              "\n",
              "    .colab-df-convert:hover {\n",
              "      background-color: #E2EBFA;\n",
              "      box-shadow: 0px 1px 2px rgba(60, 64, 67, 0.3), 0px 1px 3px 1px rgba(60, 64, 67, 0.15);\n",
              "      fill: #174EA6;\n",
              "    }\n",
              "\n",
              "    [theme=dark] .colab-df-convert {\n",
              "      background-color: #3B4455;\n",
              "      fill: #D2E3FC;\n",
              "    }\n",
              "\n",
              "    [theme=dark] .colab-df-convert:hover {\n",
              "      background-color: #434B5C;\n",
              "      box-shadow: 0px 1px 3px 1px rgba(0, 0, 0, 0.15);\n",
              "      filter: drop-shadow(0px 1px 2px rgba(0, 0, 0, 0.3));\n",
              "      fill: #FFFFFF;\n",
              "    }\n",
              "  </style>\n",
              "\n",
              "      <script>\n",
              "        const buttonEl =\n",
              "          document.querySelector('#df-438281e9-4f6b-4232-98c5-95a651a13e8d button.colab-df-convert');\n",
              "        buttonEl.style.display =\n",
              "          google.colab.kernel.accessAllowed ? 'block' : 'none';\n",
              "\n",
              "        async function convertToInteractive(key) {\n",
              "          const element = document.querySelector('#df-438281e9-4f6b-4232-98c5-95a651a13e8d');\n",
              "          const dataTable =\n",
              "            await google.colab.kernel.invokeFunction('convertToInteractive',\n",
              "                                                     [key], {});\n",
              "          if (!dataTable) return;\n",
              "\n",
              "          const docLinkHtml = 'Like what you see? Visit the ' +\n",
              "            '<a target=\"_blank\" href=https://colab.research.google.com/notebooks/data_table.ipynb>data table notebook</a>'\n",
              "            + ' to learn more about interactive tables.';\n",
              "          element.innerHTML = '';\n",
              "          dataTable['output_type'] = 'display_data';\n",
              "          await google.colab.output.renderOutput(dataTable, element);\n",
              "          const docLink = document.createElement('div');\n",
              "          docLink.innerHTML = docLinkHtml;\n",
              "          element.appendChild(docLink);\n",
              "        }\n",
              "      </script>\n",
              "    </div>\n",
              "  </div>\n",
              "  "
            ],
            "text/plain": [
              "   id  target  ps_ind_01  ...  ps_calc_18_bin  ps_calc_19_bin  ps_calc_20_bin\n",
              "0   7       0          2  ...               0               0               1\n",
              "1   9       0          1  ...               0               1               0\n",
              "2  13       0          5  ...               0               1               0\n",
              "3  16       0          0  ...               0               0               0\n",
              "4  17       0          0  ...               1               1               0\n",
              "5  19       0          5  ...               1               1               1\n",
              "6  20       0          2  ...               0               1               0\n",
              "7  22       0          5  ...               0               1               0\n",
              "8  26       0          5  ...               0               0               1\n",
              "9  28       1          1  ...               0               1               0\n",
              "\n",
              "[10 rows x 59 columns]"
            ]
          },
          "metadata": {},
          "execution_count": 31
        }
      ],
      "source": [
        "data.head(10)"
      ]
    },
    {
      "cell_type": "code",
      "execution_count": null,
      "metadata": {
        "colab": {
          "base_uri": "https://localhost:8080/"
        },
        "id": "Cp8gVQaNOacz",
        "outputId": "14d00862-e324-49a6-f98b-af93345aff49"
      },
      "outputs": [
        {
          "output_type": "stream",
          "name": "stdout",
          "text": [
            "<class 'pandas.core.frame.DataFrame'>\n",
            "RangeIndex: 595212 entries, 0 to 595211\n",
            "Data columns (total 59 columns):\n",
            " #   Column          Non-Null Count   Dtype  \n",
            "---  ------          --------------   -----  \n",
            " 0   id              595212 non-null  int64  \n",
            " 1   target          595212 non-null  int64  \n",
            " 2   ps_ind_01       595212 non-null  int64  \n",
            " 3   ps_ind_02_cat   595212 non-null  int64  \n",
            " 4   ps_ind_03       595212 non-null  int64  \n",
            " 5   ps_ind_04_cat   595212 non-null  int64  \n",
            " 6   ps_ind_05_cat   595212 non-null  int64  \n",
            " 7   ps_ind_06_bin   595212 non-null  int64  \n",
            " 8   ps_ind_07_bin   595212 non-null  int64  \n",
            " 9   ps_ind_08_bin   595212 non-null  int64  \n",
            " 10  ps_ind_09_bin   595212 non-null  int64  \n",
            " 11  ps_ind_10_bin   595212 non-null  int64  \n",
            " 12  ps_ind_11_bin   595212 non-null  int64  \n",
            " 13  ps_ind_12_bin   595212 non-null  int64  \n",
            " 14  ps_ind_13_bin   595212 non-null  int64  \n",
            " 15  ps_ind_14       595212 non-null  int64  \n",
            " 16  ps_ind_15       595212 non-null  int64  \n",
            " 17  ps_ind_16_bin   595212 non-null  int64  \n",
            " 18  ps_ind_17_bin   595212 non-null  int64  \n",
            " 19  ps_ind_18_bin   595212 non-null  int64  \n",
            " 20  ps_reg_01       595212 non-null  float64\n",
            " 21  ps_reg_02       595212 non-null  float64\n",
            " 22  ps_reg_03       595212 non-null  float64\n",
            " 23  ps_car_01_cat   595212 non-null  int64  \n",
            " 24  ps_car_02_cat   595212 non-null  int64  \n",
            " 25  ps_car_03_cat   595212 non-null  int64  \n",
            " 26  ps_car_04_cat   595212 non-null  int64  \n",
            " 27  ps_car_05_cat   595212 non-null  int64  \n",
            " 28  ps_car_06_cat   595212 non-null  int64  \n",
            " 29  ps_car_07_cat   595212 non-null  int64  \n",
            " 30  ps_car_08_cat   595212 non-null  int64  \n",
            " 31  ps_car_09_cat   595212 non-null  int64  \n",
            " 32  ps_car_10_cat   595212 non-null  int64  \n",
            " 33  ps_car_11_cat   595212 non-null  int64  \n",
            " 34  ps_car_11       595212 non-null  int64  \n",
            " 35  ps_car_12       595212 non-null  float64\n",
            " 36  ps_car_13       595212 non-null  float64\n",
            " 37  ps_car_14       595212 non-null  float64\n",
            " 38  ps_car_15       595212 non-null  float64\n",
            " 39  ps_calc_01      595212 non-null  float64\n",
            " 40  ps_calc_02      595212 non-null  float64\n",
            " 41  ps_calc_03      595212 non-null  float64\n",
            " 42  ps_calc_04      595212 non-null  int64  \n",
            " 43  ps_calc_05      595212 non-null  int64  \n",
            " 44  ps_calc_06      595212 non-null  int64  \n",
            " 45  ps_calc_07      595212 non-null  int64  \n",
            " 46  ps_calc_08      595212 non-null  int64  \n",
            " 47  ps_calc_09      595212 non-null  int64  \n",
            " 48  ps_calc_10      595212 non-null  int64  \n",
            " 49  ps_calc_11      595212 non-null  int64  \n",
            " 50  ps_calc_12      595212 non-null  int64  \n",
            " 51  ps_calc_13      595212 non-null  int64  \n",
            " 52  ps_calc_14      595212 non-null  int64  \n",
            " 53  ps_calc_15_bin  595212 non-null  int64  \n",
            " 54  ps_calc_16_bin  595212 non-null  int64  \n",
            " 55  ps_calc_17_bin  595212 non-null  int64  \n",
            " 56  ps_calc_18_bin  595212 non-null  int64  \n",
            " 57  ps_calc_19_bin  595212 non-null  int64  \n",
            " 58  ps_calc_20_bin  595212 non-null  int64  \n",
            "dtypes: float64(10), int64(49)\n",
            "memory usage: 267.9 MB\n"
          ]
        }
      ],
      "source": [
        "data.info() #to get useful information about the data."
      ]
    },
    {
      "cell_type": "code",
      "execution_count": null,
      "metadata": {
        "colab": {
          "base_uri": "https://localhost:8080/",
          "height": 364
        },
        "id": "CUZb13wBOf8B",
        "outputId": "cc6dbf66-9948-4f28-bd5f-e221943b0520"
      },
      "outputs": [
        {
          "output_type": "execute_result",
          "data": {
            "text/html": [
              "\n",
              "  <div id=\"df-50ee9166-0e92-44ee-96cc-fca8233328b6\">\n",
              "    <div class=\"colab-df-container\">\n",
              "      <div>\n",
              "<style scoped>\n",
              "    .dataframe tbody tr th:only-of-type {\n",
              "        vertical-align: middle;\n",
              "    }\n",
              "\n",
              "    .dataframe tbody tr th {\n",
              "        vertical-align: top;\n",
              "    }\n",
              "\n",
              "    .dataframe thead th {\n",
              "        text-align: right;\n",
              "    }\n",
              "</style>\n",
              "<table border=\"1\" class=\"dataframe\">\n",
              "  <thead>\n",
              "    <tr style=\"text-align: right;\">\n",
              "      <th></th>\n",
              "      <th>id</th>\n",
              "      <th>target</th>\n",
              "      <th>ps_ind_01</th>\n",
              "      <th>ps_ind_02_cat</th>\n",
              "      <th>ps_ind_03</th>\n",
              "      <th>ps_ind_04_cat</th>\n",
              "      <th>ps_ind_05_cat</th>\n",
              "      <th>ps_ind_06_bin</th>\n",
              "      <th>ps_ind_07_bin</th>\n",
              "      <th>ps_ind_08_bin</th>\n",
              "      <th>ps_ind_09_bin</th>\n",
              "      <th>ps_ind_10_bin</th>\n",
              "      <th>ps_ind_11_bin</th>\n",
              "      <th>ps_ind_12_bin</th>\n",
              "      <th>ps_ind_13_bin</th>\n",
              "      <th>ps_ind_14</th>\n",
              "      <th>ps_ind_15</th>\n",
              "      <th>ps_ind_16_bin</th>\n",
              "      <th>ps_ind_17_bin</th>\n",
              "      <th>ps_ind_18_bin</th>\n",
              "      <th>ps_reg_01</th>\n",
              "      <th>ps_reg_02</th>\n",
              "      <th>ps_reg_03</th>\n",
              "      <th>ps_car_01_cat</th>\n",
              "      <th>ps_car_02_cat</th>\n",
              "      <th>ps_car_03_cat</th>\n",
              "      <th>ps_car_04_cat</th>\n",
              "      <th>ps_car_05_cat</th>\n",
              "      <th>ps_car_06_cat</th>\n",
              "      <th>ps_car_07_cat</th>\n",
              "      <th>ps_car_08_cat</th>\n",
              "      <th>ps_car_09_cat</th>\n",
              "      <th>ps_car_10_cat</th>\n",
              "      <th>ps_car_11_cat</th>\n",
              "      <th>ps_car_11</th>\n",
              "      <th>ps_car_12</th>\n",
              "      <th>ps_car_13</th>\n",
              "      <th>ps_car_14</th>\n",
              "      <th>ps_car_15</th>\n",
              "      <th>ps_calc_01</th>\n",
              "      <th>ps_calc_02</th>\n",
              "      <th>ps_calc_03</th>\n",
              "      <th>ps_calc_04</th>\n",
              "      <th>ps_calc_05</th>\n",
              "      <th>ps_calc_06</th>\n",
              "      <th>ps_calc_07</th>\n",
              "      <th>ps_calc_08</th>\n",
              "      <th>ps_calc_09</th>\n",
              "      <th>ps_calc_10</th>\n",
              "      <th>ps_calc_11</th>\n",
              "      <th>ps_calc_12</th>\n",
              "      <th>ps_calc_13</th>\n",
              "      <th>ps_calc_14</th>\n",
              "      <th>ps_calc_15_bin</th>\n",
              "      <th>ps_calc_16_bin</th>\n",
              "      <th>ps_calc_17_bin</th>\n",
              "      <th>ps_calc_18_bin</th>\n",
              "      <th>ps_calc_19_bin</th>\n",
              "      <th>ps_calc_20_bin</th>\n",
              "    </tr>\n",
              "  </thead>\n",
              "  <tbody>\n",
              "    <tr>\n",
              "      <th>count</th>\n",
              "      <td>5.952120e+05</td>\n",
              "      <td>595212.000000</td>\n",
              "      <td>595212.000000</td>\n",
              "      <td>595212.000000</td>\n",
              "      <td>595212.000000</td>\n",
              "      <td>595212.000000</td>\n",
              "      <td>595212.000000</td>\n",
              "      <td>595212.000000</td>\n",
              "      <td>595212.000000</td>\n",
              "      <td>595212.000000</td>\n",
              "      <td>595212.000000</td>\n",
              "      <td>595212.000000</td>\n",
              "      <td>595212.000000</td>\n",
              "      <td>595212.000000</td>\n",
              "      <td>595212.000000</td>\n",
              "      <td>595212.000000</td>\n",
              "      <td>595212.000000</td>\n",
              "      <td>595212.000000</td>\n",
              "      <td>595212.000000</td>\n",
              "      <td>595212.000000</td>\n",
              "      <td>595212.000000</td>\n",
              "      <td>595212.000000</td>\n",
              "      <td>595212.000000</td>\n",
              "      <td>595212.000000</td>\n",
              "      <td>595212.000000</td>\n",
              "      <td>595212.000000</td>\n",
              "      <td>595212.000000</td>\n",
              "      <td>595212.000000</td>\n",
              "      <td>595212.000000</td>\n",
              "      <td>595212.000000</td>\n",
              "      <td>595212.000000</td>\n",
              "      <td>595212.000000</td>\n",
              "      <td>595212.000000</td>\n",
              "      <td>595212.000000</td>\n",
              "      <td>595212.000000</td>\n",
              "      <td>595212.000000</td>\n",
              "      <td>595212.000000</td>\n",
              "      <td>595212.000000</td>\n",
              "      <td>595212.000000</td>\n",
              "      <td>595212.000000</td>\n",
              "      <td>595212.000000</td>\n",
              "      <td>595212.000000</td>\n",
              "      <td>595212.000000</td>\n",
              "      <td>595212.000000</td>\n",
              "      <td>595212.000000</td>\n",
              "      <td>595212.000000</td>\n",
              "      <td>595212.000000</td>\n",
              "      <td>595212.000000</td>\n",
              "      <td>595212.000000</td>\n",
              "      <td>595212.000000</td>\n",
              "      <td>595212.000000</td>\n",
              "      <td>595212.000000</td>\n",
              "      <td>595212.000000</td>\n",
              "      <td>595212.000000</td>\n",
              "      <td>595212.000000</td>\n",
              "      <td>595212.000000</td>\n",
              "      <td>595212.000000</td>\n",
              "      <td>595212.000000</td>\n",
              "      <td>595212.000000</td>\n",
              "    </tr>\n",
              "    <tr>\n",
              "      <th>mean</th>\n",
              "      <td>7.438036e+05</td>\n",
              "      <td>0.036448</td>\n",
              "      <td>1.900378</td>\n",
              "      <td>1.358943</td>\n",
              "      <td>4.423318</td>\n",
              "      <td>0.416794</td>\n",
              "      <td>0.405188</td>\n",
              "      <td>0.393742</td>\n",
              "      <td>0.257033</td>\n",
              "      <td>0.163921</td>\n",
              "      <td>0.185304</td>\n",
              "      <td>0.000373</td>\n",
              "      <td>0.001692</td>\n",
              "      <td>0.009439</td>\n",
              "      <td>0.000948</td>\n",
              "      <td>0.012451</td>\n",
              "      <td>7.299922</td>\n",
              "      <td>0.660823</td>\n",
              "      <td>0.121081</td>\n",
              "      <td>0.153446</td>\n",
              "      <td>0.610991</td>\n",
              "      <td>0.439184</td>\n",
              "      <td>0.551102</td>\n",
              "      <td>8.295933</td>\n",
              "      <td>0.829948</td>\n",
              "      <td>-0.504899</td>\n",
              "      <td>0.725192</td>\n",
              "      <td>-0.157732</td>\n",
              "      <td>6.555340</td>\n",
              "      <td>0.910027</td>\n",
              "      <td>0.832080</td>\n",
              "      <td>1.328890</td>\n",
              "      <td>0.992136</td>\n",
              "      <td>62.215674</td>\n",
              "      <td>2.346072</td>\n",
              "      <td>0.379945</td>\n",
              "      <td>0.813265</td>\n",
              "      <td>0.276256</td>\n",
              "      <td>3.065899</td>\n",
              "      <td>0.449756</td>\n",
              "      <td>0.449589</td>\n",
              "      <td>0.449849</td>\n",
              "      <td>2.372081</td>\n",
              "      <td>1.885886</td>\n",
              "      <td>7.689445</td>\n",
              "      <td>3.005823</td>\n",
              "      <td>9.225904</td>\n",
              "      <td>2.339034</td>\n",
              "      <td>8.433590</td>\n",
              "      <td>5.441382</td>\n",
              "      <td>1.441918</td>\n",
              "      <td>2.872288</td>\n",
              "      <td>7.539026</td>\n",
              "      <td>0.122427</td>\n",
              "      <td>0.627840</td>\n",
              "      <td>0.554182</td>\n",
              "      <td>0.287182</td>\n",
              "      <td>0.349024</td>\n",
              "      <td>0.153318</td>\n",
              "    </tr>\n",
              "    <tr>\n",
              "      <th>std</th>\n",
              "      <td>4.293678e+05</td>\n",
              "      <td>0.187401</td>\n",
              "      <td>1.983789</td>\n",
              "      <td>0.664594</td>\n",
              "      <td>2.699902</td>\n",
              "      <td>0.493311</td>\n",
              "      <td>1.350642</td>\n",
              "      <td>0.488579</td>\n",
              "      <td>0.436998</td>\n",
              "      <td>0.370205</td>\n",
              "      <td>0.388544</td>\n",
              "      <td>0.019309</td>\n",
              "      <td>0.041097</td>\n",
              "      <td>0.096693</td>\n",
              "      <td>0.030768</td>\n",
              "      <td>0.127545</td>\n",
              "      <td>3.546042</td>\n",
              "      <td>0.473430</td>\n",
              "      <td>0.326222</td>\n",
              "      <td>0.360417</td>\n",
              "      <td>0.287643</td>\n",
              "      <td>0.404264</td>\n",
              "      <td>0.793506</td>\n",
              "      <td>2.508270</td>\n",
              "      <td>0.375679</td>\n",
              "      <td>0.788654</td>\n",
              "      <td>2.153463</td>\n",
              "      <td>0.844417</td>\n",
              "      <td>5.501445</td>\n",
              "      <td>0.347106</td>\n",
              "      <td>0.373796</td>\n",
              "      <td>0.978747</td>\n",
              "      <td>0.091619</td>\n",
              "      <td>33.012455</td>\n",
              "      <td>0.832548</td>\n",
              "      <td>0.058327</td>\n",
              "      <td>0.224588</td>\n",
              "      <td>0.357154</td>\n",
              "      <td>0.731366</td>\n",
              "      <td>0.287198</td>\n",
              "      <td>0.286893</td>\n",
              "      <td>0.287153</td>\n",
              "      <td>1.117219</td>\n",
              "      <td>1.134927</td>\n",
              "      <td>1.334312</td>\n",
              "      <td>1.414564</td>\n",
              "      <td>1.459672</td>\n",
              "      <td>1.246949</td>\n",
              "      <td>2.904597</td>\n",
              "      <td>2.332871</td>\n",
              "      <td>1.202963</td>\n",
              "      <td>1.694887</td>\n",
              "      <td>2.746652</td>\n",
              "      <td>0.327779</td>\n",
              "      <td>0.483381</td>\n",
              "      <td>0.497056</td>\n",
              "      <td>0.452447</td>\n",
              "      <td>0.476662</td>\n",
              "      <td>0.360295</td>\n",
              "    </tr>\n",
              "    <tr>\n",
              "      <th>min</th>\n",
              "      <td>7.000000e+00</td>\n",
              "      <td>0.000000</td>\n",
              "      <td>0.000000</td>\n",
              "      <td>-1.000000</td>\n",
              "      <td>0.000000</td>\n",
              "      <td>-1.000000</td>\n",
              "      <td>-1.000000</td>\n",
              "      <td>0.000000</td>\n",
              "      <td>0.000000</td>\n",
              "      <td>0.000000</td>\n",
              "      <td>0.000000</td>\n",
              "      <td>0.000000</td>\n",
              "      <td>0.000000</td>\n",
              "      <td>0.000000</td>\n",
              "      <td>0.000000</td>\n",
              "      <td>0.000000</td>\n",
              "      <td>0.000000</td>\n",
              "      <td>0.000000</td>\n",
              "      <td>0.000000</td>\n",
              "      <td>0.000000</td>\n",
              "      <td>0.000000</td>\n",
              "      <td>0.000000</td>\n",
              "      <td>-1.000000</td>\n",
              "      <td>-1.000000</td>\n",
              "      <td>0.000000</td>\n",
              "      <td>-1.000000</td>\n",
              "      <td>0.000000</td>\n",
              "      <td>-1.000000</td>\n",
              "      <td>0.000000</td>\n",
              "      <td>-1.000000</td>\n",
              "      <td>0.000000</td>\n",
              "      <td>-1.000000</td>\n",
              "      <td>0.000000</td>\n",
              "      <td>1.000000</td>\n",
              "      <td>-1.000000</td>\n",
              "      <td>-1.000000</td>\n",
              "      <td>0.250619</td>\n",
              "      <td>-1.000000</td>\n",
              "      <td>0.000000</td>\n",
              "      <td>0.000000</td>\n",
              "      <td>0.000000</td>\n",
              "      <td>0.000000</td>\n",
              "      <td>0.000000</td>\n",
              "      <td>0.000000</td>\n",
              "      <td>0.000000</td>\n",
              "      <td>0.000000</td>\n",
              "      <td>2.000000</td>\n",
              "      <td>0.000000</td>\n",
              "      <td>0.000000</td>\n",
              "      <td>0.000000</td>\n",
              "      <td>0.000000</td>\n",
              "      <td>0.000000</td>\n",
              "      <td>0.000000</td>\n",
              "      <td>0.000000</td>\n",
              "      <td>0.000000</td>\n",
              "      <td>0.000000</td>\n",
              "      <td>0.000000</td>\n",
              "      <td>0.000000</td>\n",
              "      <td>0.000000</td>\n",
              "    </tr>\n",
              "    <tr>\n",
              "      <th>25%</th>\n",
              "      <td>3.719915e+05</td>\n",
              "      <td>0.000000</td>\n",
              "      <td>0.000000</td>\n",
              "      <td>1.000000</td>\n",
              "      <td>2.000000</td>\n",
              "      <td>0.000000</td>\n",
              "      <td>0.000000</td>\n",
              "      <td>0.000000</td>\n",
              "      <td>0.000000</td>\n",
              "      <td>0.000000</td>\n",
              "      <td>0.000000</td>\n",
              "      <td>0.000000</td>\n",
              "      <td>0.000000</td>\n",
              "      <td>0.000000</td>\n",
              "      <td>0.000000</td>\n",
              "      <td>0.000000</td>\n",
              "      <td>5.000000</td>\n",
              "      <td>0.000000</td>\n",
              "      <td>0.000000</td>\n",
              "      <td>0.000000</td>\n",
              "      <td>0.400000</td>\n",
              "      <td>0.200000</td>\n",
              "      <td>0.525000</td>\n",
              "      <td>7.000000</td>\n",
              "      <td>1.000000</td>\n",
              "      <td>-1.000000</td>\n",
              "      <td>0.000000</td>\n",
              "      <td>-1.000000</td>\n",
              "      <td>1.000000</td>\n",
              "      <td>1.000000</td>\n",
              "      <td>1.000000</td>\n",
              "      <td>0.000000</td>\n",
              "      <td>1.000000</td>\n",
              "      <td>32.000000</td>\n",
              "      <td>2.000000</td>\n",
              "      <td>0.316228</td>\n",
              "      <td>0.670867</td>\n",
              "      <td>0.333167</td>\n",
              "      <td>2.828427</td>\n",
              "      <td>0.200000</td>\n",
              "      <td>0.200000</td>\n",
              "      <td>0.200000</td>\n",
              "      <td>2.000000</td>\n",
              "      <td>1.000000</td>\n",
              "      <td>7.000000</td>\n",
              "      <td>2.000000</td>\n",
              "      <td>8.000000</td>\n",
              "      <td>1.000000</td>\n",
              "      <td>6.000000</td>\n",
              "      <td>4.000000</td>\n",
              "      <td>1.000000</td>\n",
              "      <td>2.000000</td>\n",
              "      <td>6.000000</td>\n",
              "      <td>0.000000</td>\n",
              "      <td>0.000000</td>\n",
              "      <td>0.000000</td>\n",
              "      <td>0.000000</td>\n",
              "      <td>0.000000</td>\n",
              "      <td>0.000000</td>\n",
              "    </tr>\n",
              "    <tr>\n",
              "      <th>50%</th>\n",
              "      <td>7.435475e+05</td>\n",
              "      <td>0.000000</td>\n",
              "      <td>1.000000</td>\n",
              "      <td>1.000000</td>\n",
              "      <td>4.000000</td>\n",
              "      <td>0.000000</td>\n",
              "      <td>0.000000</td>\n",
              "      <td>0.000000</td>\n",
              "      <td>0.000000</td>\n",
              "      <td>0.000000</td>\n",
              "      <td>0.000000</td>\n",
              "      <td>0.000000</td>\n",
              "      <td>0.000000</td>\n",
              "      <td>0.000000</td>\n",
              "      <td>0.000000</td>\n",
              "      <td>0.000000</td>\n",
              "      <td>7.000000</td>\n",
              "      <td>1.000000</td>\n",
              "      <td>0.000000</td>\n",
              "      <td>0.000000</td>\n",
              "      <td>0.700000</td>\n",
              "      <td>0.300000</td>\n",
              "      <td>0.720677</td>\n",
              "      <td>7.000000</td>\n",
              "      <td>1.000000</td>\n",
              "      <td>-1.000000</td>\n",
              "      <td>0.000000</td>\n",
              "      <td>0.000000</td>\n",
              "      <td>7.000000</td>\n",
              "      <td>1.000000</td>\n",
              "      <td>1.000000</td>\n",
              "      <td>2.000000</td>\n",
              "      <td>1.000000</td>\n",
              "      <td>65.000000</td>\n",
              "      <td>3.000000</td>\n",
              "      <td>0.374166</td>\n",
              "      <td>0.765811</td>\n",
              "      <td>0.368782</td>\n",
              "      <td>3.316625</td>\n",
              "      <td>0.500000</td>\n",
              "      <td>0.400000</td>\n",
              "      <td>0.500000</td>\n",
              "      <td>2.000000</td>\n",
              "      <td>2.000000</td>\n",
              "      <td>8.000000</td>\n",
              "      <td>3.000000</td>\n",
              "      <td>9.000000</td>\n",
              "      <td>2.000000</td>\n",
              "      <td>8.000000</td>\n",
              "      <td>5.000000</td>\n",
              "      <td>1.000000</td>\n",
              "      <td>3.000000</td>\n",
              "      <td>7.000000</td>\n",
              "      <td>0.000000</td>\n",
              "      <td>1.000000</td>\n",
              "      <td>1.000000</td>\n",
              "      <td>0.000000</td>\n",
              "      <td>0.000000</td>\n",
              "      <td>0.000000</td>\n",
              "    </tr>\n",
              "    <tr>\n",
              "      <th>75%</th>\n",
              "      <td>1.115549e+06</td>\n",
              "      <td>0.000000</td>\n",
              "      <td>3.000000</td>\n",
              "      <td>2.000000</td>\n",
              "      <td>6.000000</td>\n",
              "      <td>1.000000</td>\n",
              "      <td>0.000000</td>\n",
              "      <td>1.000000</td>\n",
              "      <td>1.000000</td>\n",
              "      <td>0.000000</td>\n",
              "      <td>0.000000</td>\n",
              "      <td>0.000000</td>\n",
              "      <td>0.000000</td>\n",
              "      <td>0.000000</td>\n",
              "      <td>0.000000</td>\n",
              "      <td>0.000000</td>\n",
              "      <td>10.000000</td>\n",
              "      <td>1.000000</td>\n",
              "      <td>0.000000</td>\n",
              "      <td>0.000000</td>\n",
              "      <td>0.900000</td>\n",
              "      <td>0.600000</td>\n",
              "      <td>1.000000</td>\n",
              "      <td>11.000000</td>\n",
              "      <td>1.000000</td>\n",
              "      <td>0.000000</td>\n",
              "      <td>0.000000</td>\n",
              "      <td>1.000000</td>\n",
              "      <td>11.000000</td>\n",
              "      <td>1.000000</td>\n",
              "      <td>1.000000</td>\n",
              "      <td>2.000000</td>\n",
              "      <td>1.000000</td>\n",
              "      <td>93.000000</td>\n",
              "      <td>3.000000</td>\n",
              "      <td>0.400000</td>\n",
              "      <td>0.906190</td>\n",
              "      <td>0.396485</td>\n",
              "      <td>3.605551</td>\n",
              "      <td>0.700000</td>\n",
              "      <td>0.700000</td>\n",
              "      <td>0.700000</td>\n",
              "      <td>3.000000</td>\n",
              "      <td>3.000000</td>\n",
              "      <td>9.000000</td>\n",
              "      <td>4.000000</td>\n",
              "      <td>10.000000</td>\n",
              "      <td>3.000000</td>\n",
              "      <td>10.000000</td>\n",
              "      <td>7.000000</td>\n",
              "      <td>2.000000</td>\n",
              "      <td>4.000000</td>\n",
              "      <td>9.000000</td>\n",
              "      <td>0.000000</td>\n",
              "      <td>1.000000</td>\n",
              "      <td>1.000000</td>\n",
              "      <td>1.000000</td>\n",
              "      <td>1.000000</td>\n",
              "      <td>0.000000</td>\n",
              "    </tr>\n",
              "    <tr>\n",
              "      <th>max</th>\n",
              "      <td>1.488027e+06</td>\n",
              "      <td>1.000000</td>\n",
              "      <td>7.000000</td>\n",
              "      <td>4.000000</td>\n",
              "      <td>11.000000</td>\n",
              "      <td>1.000000</td>\n",
              "      <td>6.000000</td>\n",
              "      <td>1.000000</td>\n",
              "      <td>1.000000</td>\n",
              "      <td>1.000000</td>\n",
              "      <td>1.000000</td>\n",
              "      <td>1.000000</td>\n",
              "      <td>1.000000</td>\n",
              "      <td>1.000000</td>\n",
              "      <td>1.000000</td>\n",
              "      <td>4.000000</td>\n",
              "      <td>13.000000</td>\n",
              "      <td>1.000000</td>\n",
              "      <td>1.000000</td>\n",
              "      <td>1.000000</td>\n",
              "      <td>0.900000</td>\n",
              "      <td>1.800000</td>\n",
              "      <td>4.037945</td>\n",
              "      <td>11.000000</td>\n",
              "      <td>1.000000</td>\n",
              "      <td>1.000000</td>\n",
              "      <td>9.000000</td>\n",
              "      <td>1.000000</td>\n",
              "      <td>17.000000</td>\n",
              "      <td>1.000000</td>\n",
              "      <td>1.000000</td>\n",
              "      <td>4.000000</td>\n",
              "      <td>2.000000</td>\n",
              "      <td>104.000000</td>\n",
              "      <td>3.000000</td>\n",
              "      <td>1.264911</td>\n",
              "      <td>3.720626</td>\n",
              "      <td>0.636396</td>\n",
              "      <td>3.741657</td>\n",
              "      <td>0.900000</td>\n",
              "      <td>0.900000</td>\n",
              "      <td>0.900000</td>\n",
              "      <td>5.000000</td>\n",
              "      <td>6.000000</td>\n",
              "      <td>10.000000</td>\n",
              "      <td>9.000000</td>\n",
              "      <td>12.000000</td>\n",
              "      <td>7.000000</td>\n",
              "      <td>25.000000</td>\n",
              "      <td>19.000000</td>\n",
              "      <td>10.000000</td>\n",
              "      <td>13.000000</td>\n",
              "      <td>23.000000</td>\n",
              "      <td>1.000000</td>\n",
              "      <td>1.000000</td>\n",
              "      <td>1.000000</td>\n",
              "      <td>1.000000</td>\n",
              "      <td>1.000000</td>\n",
              "      <td>1.000000</td>\n",
              "    </tr>\n",
              "  </tbody>\n",
              "</table>\n",
              "</div>\n",
              "      <button class=\"colab-df-convert\" onclick=\"convertToInteractive('df-50ee9166-0e92-44ee-96cc-fca8233328b6')\"\n",
              "              title=\"Convert this dataframe to an interactive table.\"\n",
              "              style=\"display:none;\">\n",
              "        \n",
              "  <svg xmlns=\"http://www.w3.org/2000/svg\" height=\"24px\"viewBox=\"0 0 24 24\"\n",
              "       width=\"24px\">\n",
              "    <path d=\"M0 0h24v24H0V0z\" fill=\"none\"/>\n",
              "    <path d=\"M18.56 5.44l.94 2.06.94-2.06 2.06-.94-2.06-.94-.94-2.06-.94 2.06-2.06.94zm-11 1L8.5 8.5l.94-2.06 2.06-.94-2.06-.94L8.5 2.5l-.94 2.06-2.06.94zm10 10l.94 2.06.94-2.06 2.06-.94-2.06-.94-.94-2.06-.94 2.06-2.06.94z\"/><path d=\"M17.41 7.96l-1.37-1.37c-.4-.4-.92-.59-1.43-.59-.52 0-1.04.2-1.43.59L10.3 9.45l-7.72 7.72c-.78.78-.78 2.05 0 2.83L4 21.41c.39.39.9.59 1.41.59.51 0 1.02-.2 1.41-.59l7.78-7.78 2.81-2.81c.8-.78.8-2.07 0-2.86zM5.41 20L4 18.59l7.72-7.72 1.47 1.35L5.41 20z\"/>\n",
              "  </svg>\n",
              "      </button>\n",
              "      \n",
              "  <style>\n",
              "    .colab-df-container {\n",
              "      display:flex;\n",
              "      flex-wrap:wrap;\n",
              "      gap: 12px;\n",
              "    }\n",
              "\n",
              "    .colab-df-convert {\n",
              "      background-color: #E8F0FE;\n",
              "      border: none;\n",
              "      border-radius: 50%;\n",
              "      cursor: pointer;\n",
              "      display: none;\n",
              "      fill: #1967D2;\n",
              "      height: 32px;\n",
              "      padding: 0 0 0 0;\n",
              "      width: 32px;\n",
              "    }\n",
              "\n",
              "    .colab-df-convert:hover {\n",
              "      background-color: #E2EBFA;\n",
              "      box-shadow: 0px 1px 2px rgba(60, 64, 67, 0.3), 0px 1px 3px 1px rgba(60, 64, 67, 0.15);\n",
              "      fill: #174EA6;\n",
              "    }\n",
              "\n",
              "    [theme=dark] .colab-df-convert {\n",
              "      background-color: #3B4455;\n",
              "      fill: #D2E3FC;\n",
              "    }\n",
              "\n",
              "    [theme=dark] .colab-df-convert:hover {\n",
              "      background-color: #434B5C;\n",
              "      box-shadow: 0px 1px 3px 1px rgba(0, 0, 0, 0.15);\n",
              "      filter: drop-shadow(0px 1px 2px rgba(0, 0, 0, 0.3));\n",
              "      fill: #FFFFFF;\n",
              "    }\n",
              "  </style>\n",
              "\n",
              "      <script>\n",
              "        const buttonEl =\n",
              "          document.querySelector('#df-50ee9166-0e92-44ee-96cc-fca8233328b6 button.colab-df-convert');\n",
              "        buttonEl.style.display =\n",
              "          google.colab.kernel.accessAllowed ? 'block' : 'none';\n",
              "\n",
              "        async function convertToInteractive(key) {\n",
              "          const element = document.querySelector('#df-50ee9166-0e92-44ee-96cc-fca8233328b6');\n",
              "          const dataTable =\n",
              "            await google.colab.kernel.invokeFunction('convertToInteractive',\n",
              "                                                     [key], {});\n",
              "          if (!dataTable) return;\n",
              "\n",
              "          const docLinkHtml = 'Like what you see? Visit the ' +\n",
              "            '<a target=\"_blank\" href=https://colab.research.google.com/notebooks/data_table.ipynb>data table notebook</a>'\n",
              "            + ' to learn more about interactive tables.';\n",
              "          element.innerHTML = '';\n",
              "          dataTable['output_type'] = 'display_data';\n",
              "          await google.colab.output.renderOutput(dataTable, element);\n",
              "          const docLink = document.createElement('div');\n",
              "          docLink.innerHTML = docLinkHtml;\n",
              "          element.appendChild(docLink);\n",
              "        }\n",
              "      </script>\n",
              "    </div>\n",
              "  </div>\n",
              "  "
            ],
            "text/plain": [
              "                 id         target  ...  ps_calc_19_bin  ps_calc_20_bin\n",
              "count  5.952120e+05  595212.000000  ...   595212.000000   595212.000000\n",
              "mean   7.438036e+05       0.036448  ...        0.349024        0.153318\n",
              "std    4.293678e+05       0.187401  ...        0.476662        0.360295\n",
              "min    7.000000e+00       0.000000  ...        0.000000        0.000000\n",
              "25%    3.719915e+05       0.000000  ...        0.000000        0.000000\n",
              "50%    7.435475e+05       0.000000  ...        0.000000        0.000000\n",
              "75%    1.115549e+06       0.000000  ...        1.000000        0.000000\n",
              "max    1.488027e+06       1.000000  ...        1.000000        1.000000\n",
              "\n",
              "[8 rows x 59 columns]"
            ]
          },
          "metadata": {},
          "execution_count": 33
        }
      ],
      "source": [
        "data.describe() #gives summary statistics of columns which are continuous in nature and not categorical."
      ]
    },
    {
      "cell_type": "code",
      "execution_count": null,
      "metadata": {
        "colab": {
          "base_uri": "https://localhost:8080/"
        },
        "id": "6kQmMCrQrJ6G",
        "outputId": "1512b6d6-82ce-412f-c89a-ad7f4ff33dfd"
      },
      "outputs": [
        {
          "output_type": "execute_result",
          "data": {
            "text/plain": [
              "Index(['id', 'target', 'ps_ind_01', 'ps_ind_02_cat', 'ps_ind_03',\n",
              "       'ps_ind_04_cat', 'ps_ind_05_cat', 'ps_ind_06_bin', 'ps_ind_07_bin',\n",
              "       'ps_ind_08_bin', 'ps_ind_09_bin', 'ps_ind_10_bin', 'ps_ind_11_bin',\n",
              "       'ps_ind_12_bin', 'ps_ind_13_bin', 'ps_ind_14', 'ps_ind_15',\n",
              "       'ps_ind_16_bin', 'ps_ind_17_bin', 'ps_ind_18_bin', 'ps_reg_01',\n",
              "       'ps_reg_02', 'ps_reg_03', 'ps_car_01_cat', 'ps_car_02_cat',\n",
              "       'ps_car_03_cat', 'ps_car_04_cat', 'ps_car_05_cat', 'ps_car_06_cat',\n",
              "       'ps_car_07_cat', 'ps_car_08_cat', 'ps_car_09_cat', 'ps_car_10_cat',\n",
              "       'ps_car_11_cat', 'ps_car_11', 'ps_car_12', 'ps_car_13', 'ps_car_14',\n",
              "       'ps_car_15', 'ps_calc_01', 'ps_calc_02', 'ps_calc_03', 'ps_calc_04',\n",
              "       'ps_calc_05', 'ps_calc_06', 'ps_calc_07', 'ps_calc_08', 'ps_calc_09',\n",
              "       'ps_calc_10', 'ps_calc_11', 'ps_calc_12', 'ps_calc_13', 'ps_calc_14',\n",
              "       'ps_calc_15_bin', 'ps_calc_16_bin', 'ps_calc_17_bin', 'ps_calc_18_bin',\n",
              "       'ps_calc_19_bin', 'ps_calc_20_bin'],\n",
              "      dtype='object')"
            ]
          },
          "metadata": {},
          "execution_count": 34
        }
      ],
      "source": [
        "data.columns# to get the titles of the columns present"
      ]
    },
    {
      "cell_type": "markdown",
      "metadata": {
        "id": "iAQFznnHaT_f"
      },
      "source": [
        "**#1.Write at least 3 important inferences from the data above?**\n",
        "The given data is highly imbalance.\n"
      ]
    },
    {
      "cell_type": "markdown",
      "metadata": {
        "id": "WmUYnH6kbHz1"
      },
      "source": [
        "**2.Is the data balanced? Meaning are targets 0 and 1 in the right proportion?**"
      ]
    },
    {
      "cell_type": "code",
      "execution_count": null,
      "metadata": {
        "colab": {
          "base_uri": "https://localhost:8080/",
          "height": 315
        },
        "id": "x1g7QTVMuF5b",
        "outputId": "9e1c64eb-0816-4782-d66e-c3e85894e724"
      },
      "outputs": [
        {
          "output_type": "stream",
          "name": "stdout",
          "text": [
            "Distribution of class 0 & 1: 0    96.355248\n",
            "1     3.644752\n",
            "Name: target, dtype: float64\n"
          ]
        },
        {
          "output_type": "display_data",
          "data": {
            "image/png": "[encoded data removed]",
            "text/plain": [
              "<Figure size 432x288 with 1 Axes>"
            ]
          },
          "metadata": {
            "needs_background": "light"
          }
        }
      ],
      "source": [
        "balan = (data['target'].value_counts()/(data.shape[0]))*100\n",
        "print(\"Distribution of class 0 & 1:\",balan)\n",
        "balan.plot.bar();"
      ]
    },
    {
      "cell_type": "markdown",
      "metadata": {
        "id": "pca8kw8B8m2S"
      },
      "source": [
        "**Balanced Data**\n",
        "A balanced dataset is a dataset where each output class (or target class) is represented by the same number of input samples.\n",
        "\n",
        "The given data is highly imbalanced. The 0 & 1 distribution is not same or approximately equal.\n",
        "\n",
        "**Confusion Matrix**\n",
        "A conofusion matrix is also known as the error matrix.\n",
        "The confusion matrix will allow us by observing the proportions of correct classifications in a simple manner."
      ]
    },
    {
      "cell_type": "code",
      "execution_count": null,
      "metadata": {
        "colab": {
          "base_uri": "https://localhost:8080/"
        },
        "id": "YPyjrwaXuPGE",
        "outputId": "0940af5e-70fc-41ce-87dd-e0262c370dff"
      },
      "outputs": [
        {
          "output_type": "stream",
          "name": "stdout",
          "text": [
            "train data dtypes count \n",
            " int64      49\n",
            "float64    10\n",
            "dtype: int64\n"
          ]
        }
      ],
      "source": [
        "#3.How many categorical features are there?\n",
        "#4.How many binary features are there?\n",
        "print(\"train data dtypes count \\n\",data.dtypes.value_counts()) # to get the count of dtypes availables"
      ]
    },
    {
      "cell_type": "code",
      "execution_count": null,
      "metadata": {
        "id": "IHXkFOLVhxrn"
      },
      "outputs": [],
      "source": [
        "def var_type(element) :\n",
        "    \"\"\"\n",
        "     assuming the count<15 as categorical & >15 as continuoues \n",
        "     \"\"\"\n",
        "    if element==0:\n",
        "        return \"Not Known\"\n",
        "    elif element < 20 and element!=0 :\n",
        "        return \"Categorical\"\n",
        "    elif element >= 20 and element!=0 :\n",
        "        return \"Contineous\""
      ]
    },
    {
      "cell_type": "code",
      "execution_count": null,
      "metadata": {
        "id": "2G3Vv7wtdhfY"
      },
      "outputs": [],
      "source": [
        "def predict_var_type(data_matrix):\n",
        "    data_matrix[\"Variable_Type\"] = data_matrix[\"Unique_Values_Count\"].apply(var_type).astype(str)\n",
        "    data_matrix[\"frequency\"] = data_matrix[\"Null_Count\"] - data_matrix[\"Null_Count\"]\n",
        "    data_matrix[\"frequency\"].astype(int)\n",
        "    return data_matrix \n",
        "   \n",
        "def m_data(dataframe) :\n",
        "   \n",
        "    data_matrix = pd.DataFrame({\n",
        "                    'Datatype' : dataframe.dtypes.astype(str), # data types of columns\n",
        "                    'Non_Null_Count': dataframe.count(axis = 0).astype(int), # total elements in columns\n",
        "                    'Null_Count': dataframe.isnull().sum().astype(int), # total null values in columns\n",
        "                    'Null_Percentage': dataframe.isnull().sum()/len(dataframe) * 100, # percentage of null values\n",
        "                    'Unique_Values_Count': dataframe.nunique().astype(int) # number of unique values\n",
        "                     })\n",
        "    \n",
        "    data_matrix = predict_var_type(data_matrix)\n",
        "    return data_matrix\n",
        "  "
      ]
    },
    {
      "cell_type": "code",
      "execution_count": null,
      "metadata": {
        "id": "0V0gDvPoifeP"
      },
      "outputs": [],
      "source": [
        "X = data.drop(['id','target'],axis =1)\n",
        "y=data.target\n",
        "data_matrix_df = m_data(data)\n",
        "data_matrix_df[\"dt_name\"] =[ i.split(\"_\")[-1] for i in data_matrix_df.index.values]\n",
        "data_matrix_df['dt_name'] = data_matrix_df['dt_name'].apply(lambda x : \"interval\" if str(x).isnumeric() else x)"
      ]
    },
    {
      "cell_type": "code",
      "execution_count": null,
      "metadata": {
        "id": "xdusypt5h-DH"
      },
      "outputs": [],
      "source": [
        "Dtype = data_matrix_df.groupby(['dt_name'])\n",
        "\n",
        "interval_feature =Dtype.get_group(\"interval\").index.tolist()\n",
        "binary_feature = Dtype.get_group(\"bin\").index.tolist()\n",
        "categorical_feature = Dtype.get_group(\"cat\").index.tolist()"
      ]
    },
    {
      "cell_type": "code",
      "execution_count": null,
      "metadata": {
        "colab": {
          "base_uri": "https://localhost:8080/"
        },
        "id": "z8wKsavJdudz",
        "outputId": "9f8b5647-8e45-4cd8-afcd-31a42347586e"
      },
      "outputs": [
        {
          "output_type": "stream",
          "name": "stdout",
          "text": [
            "categorical features count: 50\n"
          ]
        }
      ],
      "source": [
        "group_var_type = data_matrix_df.groupby('Variable_Type')\n",
        "print(\"categorical features count:\",group_var_type.get_group('Categorical').shape[0])"
      ]
    },
    {
      "cell_type": "code",
      "execution_count": null,
      "metadata": {
        "colab": {
          "base_uri": "https://localhost:8080/",
          "height": 640
        },
        "id": "9lNvY43gucZg",
        "outputId": "91a3f013-ca6e-444e-a894-561a9c4fe6d4"
      },
      "outputs": [
        {
          "output_type": "display_data",
          "data": {
            "image/png": "[encoded data removed]",
            "text/plain": [
              "<Figure size 1080x720 with 2 Axes>"
            ]
          },
          "metadata": {
            "needs_background": "light"
          }
        }
      ],
      "source": [
        "#5.Write inferences from data on interval variables\n",
        "\"\"\"\n",
        "An interval scale is one where there is order and difference between two vaues is meaningful.\n",
        "It is a quantitative data\n",
        "\"\"\"\n",
        "infe = data[interval_feature].corr()\n",
        "infe = infe[(infe>=0.5) | (infe<=-0.5)].fillna(0)\n",
        "fig, ax = plt.subplots(figsize=(15,10))\n",
        "sns.heatmap(infe,annot= True)\n",
        "plt.show()"
      ]
    },
    {
      "cell_type": "markdown",
      "metadata": {
        "id": "2jZ8oDMmj4Ru"
      },
      "source": [
        "From the above heatmap we can conclude that in all the data is independent except at few places the data."
      ]
    },
    {
      "cell_type": "code",
      "execution_count": null,
      "metadata": {
        "colab": {
          "base_uri": "https://localhost:8080/",
          "height": 543
        },
        "id": "DDgIufPkuecc",
        "outputId": "e7e6b3c4-2967-4065-99af-36da1bcee0b3"
      },
      "outputs": [
        {
          "output_type": "display_data",
          "data": {
            "image/png": "[encoded data removed]",
            "text/plain": [
              "<Figure size 1152x576 with 1 Axes>"
            ]
          },
          "metadata": {
            "needs_background": "light"
          }
        }
      ],
      "source": [
        "#6.Write inferences from data on ordinal variables.\n",
        "\"\"\"\n",
        "An ordinal data is where the order/sequence of the values matters not the difference between the values in the data.\n",
        "It is a qualitative & categorical data.\n",
        "\"\"\"\n",
        "ord ={}\n",
        "for i in data[categorical_feature].columns:\n",
        "    ord[i] = data[categorical_feature][i].nunique()\n",
        "\n",
        "pd.DataFrame(ord,index=['unique values']).T.plot.bar(figsize=(16,8));"
      ]
    },
    {
      "cell_type": "markdown",
      "metadata": {
        "id": "ypOlV_cGk-9e"
      },
      "source": [
        "from the above bar graph we can clearly see that the unique values for all the data is <20 except for one (ps_car_11_cat) featture."
      ]
    },
    {
      "cell_type": "code",
      "execution_count": null,
      "metadata": {
        "colab": {
          "base_uri": "https://localhost:8080/",
          "height": 548
        },
        "id": "Q6Nqe1_-ukX7",
        "outputId": "c5a5ffa1-f219-4ccf-cfd5-53ed525a2c45"
      },
      "outputs": [
        {
          "output_type": "display_data",
          "data": {
            "image/png": "[encoded data removed]",
            "text/plain": [
              "<Figure size 1152x576 with 1 Axes>"
            ]
          },
          "metadata": {
            "needs_background": "light"
          }
        }
      ],
      "source": [
        "#7.Write inferences from data on binary variables.\n",
        "\"\"\"\n",
        "A binary variables is a variable with ony two values (like [0/1], [yes/no], [true/false], [pass/fail], [present/absent].....).\n",
        "\"\"\"\n",
        "col = data_matrix_df[data_matrix_df['Unique_Values_Count'] == 2].index\n",
        "df_1 = pd.DataFrame((data[col].sum()/data[col].shape[0])*100, columns=['Percentage of 1'])\n",
        "df_1.plot.bar(figsize=(16,8));"
      ]
    },
    {
      "cell_type": "markdown",
      "metadata": {
        "id": "nkjvjKzfNQlE"
      },
      "source": [
        "**f1 score:**\n",
        " It is the measaure of accuracy. It is the weighted average of precision & recall (The F1 score is defined as the harmonic mean of precision and recall). \n",
        "the f1 score is between 0 & 1. If f1 score is 0=worst & 1= best model.\n",
        "f1=(2TP)/(2TP+FP+FN)\n",
        "\n",
        "**Precision:** \n",
        "The +ve predicted values(no. of +ve class predicted that actually belon to a +ve class).\n",
        "it is a quality measure. \n",
        "Precision=TP/(TP+FP)\n",
        "\n",
        "**Recall:**\n",
        "It is aso known as True Positive Rate(TPR)/ RECALL/ SENSTIVITY\n",
        "It represent the sensitivity(no. of +ve predicted class to all the observations in actual class. \n",
        "It is the quantity measure. \n",
        "Recall=TP/(TP+FN)\n",
        "\n",
        "**Accuracy:** \n",
        "It is the measures the number of predictions that are correct as a percentage of the total number of predictions that are made. \n",
        "Accuracy=(TP+TN)/(TP+FN+FP+TN)"
      ]
    },
    {
      "cell_type": "code",
      "execution_count": null,
      "metadata": {
        "id": "zNucNx38RAsr"
      },
      "outputs": [],
      "source": [
        "import warnings\n",
        "warnings.filterwarnings('ignore')\n",
        "from sklearn.utils import resample\n",
        "from imblearn.datasets import make_imbalance\n",
        "from imblearn.over_sampling import SMOTE\n",
        "#SMOTE-Synthetic Minority Oversamplin Technique"
      ]
    },
    {
      "cell_type": "markdown",
      "metadata": {
        "id": "Q2-OLCKnxtWZ"
      },
      "source": [
        "**#8. Check if the target data is proportionate or not. Hint: Below than 30% for binary data is sign of imbalance**"
      ]
    },
    {
      "cell_type": "code",
      "execution_count": null,
      "metadata": {
        "colab": {
          "base_uri": "https://localhost:8080/",
          "height": 353
        },
        "id": "XPaMZF7rvW8V",
        "outputId": "e1b3d82f-80c5-4b0d-dc07-c5da344fe06e"
      },
      "outputs": [
        {
          "output_type": "stream",
          "name": "stdout",
          "text": [
            "% of Target=1: (573518, 59) 50.0 \n",
            "% of Target=0 : (573518, 59) 50.0\n",
            "\n",
            " #Imbalanced data\n"
          ]
        },
        {
          "output_type": "display_data",
          "data": {
            "image/png": "[encoded data removed]",
            "text/plain": [
              "<Figure size 432x288 with 1 Axes>"
            ]
          },
          "metadata": {
            "needs_background": "light"
          }
        }
      ],
      "source": [
        "\n",
        "Pref1= np.round((data[data['target']==1].shape[0]*100)/ data.shape[0],2)\n",
        "Pref0= np.round((data[data['target']==0].shape[0]*100)/ data.shape[0],2)\n",
        "\n",
        "print('% of Target=1:',data[data['target']==1].shape, Pref1,'\\n% of Target=0 :',data[data['target']==0].shape,Pref0)\n",
        "print(\"\\n #Imbalanced data\")\n",
        "sns.countplot(x= data['target'])\n",
        "plt.show()"
      ]
    },
    {
      "cell_type": "markdown",
      "metadata": {
        "id": "eXTt1XIAxv7w"
      },
      "source": [
        "**#9.What should be the preferred way in this case to balance the data?**"
      ]
    },
    {
      "cell_type": "markdown",
      "metadata": {
        "id": "M9AsaKhe3jT8"
      },
      "source": [
        "\n",
        "\n",
        "*   A balanced dataset is a dataset where each output class (or target class) is represented by the same number of input samples.\n",
        "*   Balancing the data gives us same amount of information to help to predict each class and therefore gives a abetter idea on how to respond to test data.\n",
        "*   resampling is a technique to blance the imbalance data.\n",
        "\n",
        "\n"
      ]
    },
    {
      "cell_type": "code",
      "execution_count": null,
      "metadata": {
        "colab": {
          "base_uri": "https://localhost:8080/"
        },
        "id": "S9mQ-HJ1vXGr",
        "outputId": "42fb98c5-8474-45d7-9f33-cf799f2226d4"
      },
      "outputs": [
        {
          "output_type": "stream",
          "name": "stdout",
          "text": [
            "Size of data, after achieving a balance of 12%:  642340\n"
          ]
        }
      ],
      "source": [
        "#10.How many training records are there after achieving a balance of 12%?\n",
        "data_1= data[data['target']==1]\n",
        "data_0= data[data['target']==0]\n",
        "data_resampled = resample(data_0,replace=True,n_samples=int(len(data_0)*0.12), random_state = 42)\n",
        "\n",
        "print(\"Size of data, after achieving a balance of 12%: \", data_resampled.shape[0] + data_0.shape[0])"
      ]
    },
    {
      "cell_type": "code",
      "execution_count": null,
      "metadata": {
        "colab": {
          "base_uri": "https://localhost:8080/",
          "height": 334
        },
        "id": "F4anRiADwSNN",
        "outputId": "8a9440d4-d228-42d0-8fe0-a5b20f67034c"
      },
      "outputs": [
        {
          "output_type": "stream",
          "name": "stdout",
          "text": [
            "Class compostion after resampling:\n",
            "1    573518\n",
            "0    573518\n",
            "Name: target, dtype: int64\n"
          ]
        },
        {
          "output_type": "display_data",
          "data": {
            "image/png": "[encoded data removed]",
            "text/plain": [
              "<Figure size 432x288 with 1 Axes>"
            ]
          },
          "metadata": {
            "needs_background": "light"
          }
        }
      ],
      "source": [
        "data_1_resampled = resample(data_1,replace=True,n_samples=len(data_0), random_state = 42)\n",
        "data = pd.concat([data_0,data_1_resampled])\n",
        "print(\"Class compostion after resampling:\")\n",
        "print(data['target'].value_counts())\n",
        "data['target'].value_counts().plot.bar();"
      ]
    },
    {
      "cell_type": "markdown",
      "source": [
        "After resampling the data has been distributed equaly fr the target column feature."
      ],
      "metadata": {
        "id": "9dw8CQcZV6f-"
      }
    },
    {
      "cell_type": "code",
      "execution_count": null,
      "metadata": {
        "colab": {
          "base_uri": "https://localhost:8080/"
        },
        "id": "U589Qp_Xuzb4",
        "outputId": "0e14f876-9075-43f6-8675-ec1461b6fcb3"
      },
      "outputs": [
        {
          "output_type": "stream",
          "name": "stdout",
          "text": [
            "Total missing values in Total train data  is:\n",
            " id                0\n",
            "target            0\n",
            "ps_ind_01         0\n",
            "ps_ind_02_cat     0\n",
            "ps_ind_03         0\n",
            "ps_ind_04_cat     0\n",
            "ps_ind_05_cat     0\n",
            "ps_ind_06_bin     0\n",
            "ps_ind_07_bin     0\n",
            "ps_ind_08_bin     0\n",
            "ps_ind_09_bin     0\n",
            "ps_ind_10_bin     0\n",
            "ps_ind_11_bin     0\n",
            "ps_ind_12_bin     0\n",
            "ps_ind_13_bin     0\n",
            "ps_ind_14         0\n",
            "ps_ind_15         0\n",
            "ps_ind_16_bin     0\n",
            "ps_ind_17_bin     0\n",
            "ps_ind_18_bin     0\n",
            "ps_reg_01         0\n",
            "ps_reg_02         0\n",
            "ps_reg_03         0\n",
            "ps_car_01_cat     0\n",
            "ps_car_02_cat     0\n",
            "ps_car_03_cat     0\n",
            "ps_car_04_cat     0\n",
            "ps_car_05_cat     0\n",
            "ps_car_06_cat     0\n",
            "ps_car_07_cat     0\n",
            "ps_car_08_cat     0\n",
            "ps_car_09_cat     0\n",
            "ps_car_10_cat     0\n",
            "ps_car_11_cat     0\n",
            "ps_car_11         0\n",
            "ps_car_12         0\n",
            "ps_car_13         0\n",
            "ps_car_14         0\n",
            "ps_car_15         0\n",
            "ps_calc_01        0\n",
            "ps_calc_02        0\n",
            "ps_calc_03        0\n",
            "ps_calc_04        0\n",
            "ps_calc_05        0\n",
            "ps_calc_06        0\n",
            "ps_calc_07        0\n",
            "ps_calc_08        0\n",
            "ps_calc_09        0\n",
            "ps_calc_10        0\n",
            "ps_calc_11        0\n",
            "ps_calc_12        0\n",
            "ps_calc_13        0\n",
            "ps_calc_14        0\n",
            "ps_calc_15_bin    0\n",
            "ps_calc_16_bin    0\n",
            "ps_calc_17_bin    0\n",
            "ps_calc_18_bin    0\n",
            "ps_calc_19_bin    0\n",
            "ps_calc_20_bin    0\n",
            "dtype: int64\n"
          ]
        }
      ],
      "source": [
        "#12. In total, how many features have missing values?\n",
        "print(\"Total missing values in Total train data  is:\\n\",data.isnull().sum()) # to get the sum of null values present in each column"
      ]
    },
    {
      "cell_type": "markdown",
      "metadata": {
        "id": "dKt2mhK2zk_a"
      },
      "source": [
        "There are no missing or null values in the given data set."
      ]
    },
    {
      "cell_type": "markdown",
      "metadata": {
        "id": "jn7-2HDIztK9"
      },
      "source": [
        "**#11.Which are the top two features in terms of missing values?**\n",
        "\n",
        "since there are no omissing values in the data there are no top features to get from them."
      ]
    },
    {
      "cell_type": "markdown",
      "metadata": {
        "id": "UVjCKGdL0BFw"
      },
      "source": [
        "**#13.What steps should be taken to handle the missing data?**\n",
        "\n",
        "As there are no null data in the given data so no need to do any analysis.\n",
        "If the null data is present then there are many ways to handle them such as\n",
        "- replacing them with the mean/mode/median of the column data.\n",
        "- removing the particular rows in the data having the misssing values if there are in less number & data is huge.\n",
        "and many other approaches based on experience & requirement."
      ]
    },
    {
      "cell_type": "markdown",
      "metadata": {
        "id": "dJjM-zu617xi"
      },
      "source": [
        "**#14.Which interval variables have strong correlation?**"
      ]
    },
    {
      "cell_type": "code",
      "execution_count": null,
      "metadata": {
        "colab": {
          "base_uri": "https://localhost:8080/",
          "height": 640
        },
        "id": "lbGzE3vNvqWC",
        "outputId": "7a21c1a4-9e6b-45b1-f0a6-ab4b8e641897"
      },
      "outputs": [
        {
          "output_type": "display_data",
          "data": {
            "image/png": "[encoded data removed]",
            "text/plain": [
              "<Figure size 1080x720 with 2 Axes>"
            ]
          },
          "metadata": {
            "needs_background": "light"
          }
        }
      ],
      "source": [
        "#to get the correlation matrix\n",
        "int_var_cor= data[interval_feature].corr()\n",
        "int_var_cor = int_var_cor[(int_var_cor>=0.5) | (int_var_cor<=-0.5)].fillna(0)\n",
        "fig, ax = plt.subplots(figsize=(15,10))\n",
        "sns.heatmap(int_var_cor,annot= True)\n",
        "plt.show()"
      ]
    },
    {
      "cell_type": "code",
      "execution_count": null,
      "metadata": {
        "colab": {
          "base_uri": "https://localhost:8080/",
          "height": 656
        },
        "id": "viWdqeqBv3IP",
        "outputId": "cd5c9af1-0adf-4918-c5bb-c1fae195d7ed"
      },
      "outputs": [
        {
          "output_type": "display_data",
          "data": {
            "image/png": "[encoded data removed]",
            "text/plain": [
              "<Figure size 1080x720 with 2 Axes>"
            ]
          },
          "metadata": {
            "needs_background": "light"
          }
        }
      ],
      "source": [
        "#15.What's the level of correlation among ordinal features?\n",
        "#In ordinal encoding, each unique category value is assigned an integer value.\n",
        "# cutoff = 0.4\n",
        "ordi_cor= data[categorical_feature].corr()\n",
        "ordi_cor = ordi_cor[(ordi_cor>=0.4) | (ordi_cor<=-0.4)].fillna(0)\n",
        "fig, ax = plt.subplots(figsize=(15,10))\n",
        "sns.heatmap(ordi_cor,annot= True)\n",
        "plt.show()"
      ]
    },
    {
      "cell_type": "code",
      "execution_count": null,
      "metadata": {
        "colab": {
          "base_uri": "https://localhost:8080/",
          "height": 656
        },
        "id": "lCNnXIvI5_Wr",
        "outputId": "23b3c86b-d230-4404-b95b-d649d7d1a01a"
      },
      "outputs": [
        {
          "output_type": "display_data",
          "data": {
            "image/png": "[encoded data removed]",
            "text/plain": [
              "<Figure size 1080x720 with 2 Axes>"
            ]
          },
          "metadata": {
            "needs_background": "light"
          }
        }
      ],
      "source": [
        "# cutoff = 0.3\n",
        "ordi_cor= data[categorical_feature].corr()\n",
        "ordi_cor = ordi_cor[(ordi_cor>=0.3) | (ordi_cor<=-0.3)].fillna(0)\n",
        "fig, ax = plt.subplots(figsize=(15,10))\n",
        "sns.heatmap(ordi_cor,annot= True)\n",
        "plt.show()"
      ]
    },
    {
      "cell_type": "markdown",
      "metadata": {
        "id": "Z5yN_mG91RiM"
      },
      "source": [
        "**correlation matrix**\n",
        "\n",
        "1)The correlation matrix is a square matrix which represents the correlation coefficient between two variables.\n",
        "\n",
        "2)all the diagonal elements are equal to 1, since they represent the correlation of variable with itself.\n",
        "\n",
        "3)if correlation value is closer to\n",
        "\n",
        "i) 0: then no/absecne of relation between two variables\n",
        "\n",
        "ii) 1:strong positive correlation(one varaiable increases other increases)\n",
        "\n",
        "iii)-1:strong negative correlation(if any one varaiable increases other decreases)\n",
        "\n",
        "4) the darker shades of colour indicates smaller value and the lighter shades indicates the larger/highest value."
      ]
    },
    {
      "cell_type": "markdown",
      "metadata": {
        "id": "8dBpNb9l3vVD"
      },
      "source": [
        "**#16.Implement Hot Encoding for categorical features**\n",
        "\n",
        "\n",
        "\n",
        "1.   to convert to the catergorical data to 0 & 1.\n",
        "\n",
        "\n",
        "2.   Since in the given data there is no categorical features so ne need to apply the hot encoding\n",
        "\n",
        "\n",
        "*   If there is categorical features then we can use the following ways to convert them to numerical data.\n",
        "\n",
        "\n",
        "from sklearn.preprocessing import LabelEncoder\n",
        "\n",
        "le=LabelEncoder()\n",
        "\n",
        "data[\"col_name\"]=le.fit_transform(data[\"col_name\"])\n",
        "\n",
        "\n",
        "or\n",
        "\n",
        "from sklearn.preprocessing import OneHotEncoder\n",
        "\n",
        "ohe=OneHotEncoder()\n",
        "\n",
        "data[\"col_name\"]=ohe.fit_transform(data[\"col_name\"])\n",
        "\n",
        "or\n",
        "\n",
        "one_hot_encoded_data = pd.get_dummies(data, columns = [\"col_1\",\"col_2\"])\n",
        "\n",
        "print(one_hot_encoded_data)"
      ]
    },
    {
      "cell_type": "markdown",
      "metadata": {
        "id": "63xVdJaJ5TuM"
      },
      "source": [
        "**#17.In nominal and interval features, which features are suitable for StandardScaler?**\n",
        "\n",
        "standered scalar removes the mean and scales each features to unit varience.\n",
        "\n",
        "the nominaldata is labelled or named data which can be divided into various groups which do not overlap.\n",
        "\n",
        "nomminal are not suitable for the standard scaler so apply standered scalar for the interval features.\n"
      ]
    },
    {
      "cell_type": "markdown",
      "source": [
        "**#18.Summarize the learnings of ED(Explorataory Data)**\n",
        "\n",
        "Given the data is imbalnced data and balancing must be done.\n",
        "The correlation of various is not done properly.\n"
      ],
      "metadata": {
        "id": "a30onaaLsMfl"
      }
    },
    {
      "cell_type": "markdown",
      "metadata": {
        "id": "94d9KrWepbT9"
      },
      "source": [
        "**Modeling :**"
      ]
    },
    {
      "cell_type": "code",
      "execution_count": null,
      "metadata": {
        "id": "kD3jJQf8qCn2"
      },
      "outputs": [],
      "source": [
        "from sklearn.model_selection import train_test_split\n",
        "from sklearn.ensemble import RandomForestRegressor\n",
        "from sklearn.ensemble import BaggingRegressor\n",
        "from sklearn.linear_model import LogisticRegression\n",
        "from sklearn import metrics\n",
        "from sklearn.metrics import accuracy_score, f1_score,mean_squared_error, precision_score, recall_score, classification_report\n",
        "import math\n",
        "from sklearn.metrics import confusion_matrix\n",
        "from sklearn.pipeline import make_pipeline\n",
        "from sklearn.preprocessing import StandardScaler\n",
        "from sklearn.datasets import make_classification"
      ]
    },
    {
      "cell_type": "code",
      "execution_count": null,
      "metadata": {
        "id": "MiI6fWfz-7I_"
      },
      "outputs": [],
      "source": [
        "from numpy import argmax\n",
        "from sklearn.metrics import roc_curve, auc, roc_auc_score\n",
        "from sklearn.decomposition import PCA\n",
        "import warnings\n",
        "warnings.filterwarnings('ignore')"
      ]
    },
    {
      "cell_type": "markdown",
      "metadata": {
        "id": "FCPsp22e9iqC"
      },
      "source": [
        "**we can aso get the tn, fp, fn, tp values like this as well**.\n",
        "\n",
        "\n",
        "\"\"\"\n",
        "tn, fp, fn, tp = confusion_matrix(test['buy'], preds).ravel()\n",
        "print('True negatives: ', tn, '\\nFalse positives: ', fp, '\\nFalse negatives: ', fn, '\\nTrue Positives: ', tp)\n",
        "\n",
        "or\n",
        "\n",
        "print('\\n CONFUSION MATRIX:\\n ', confusion_matrix,'\\n')\n",
        "    TP = confusion_matrix[1, 1]\n",
        "    TN = confusion_matrix[0, 0]\n",
        "    FP = confusion_matrix[0, 1]\n",
        "    FN = confusion_matrix[1, 0]\n",
        "\n",
        "\"\"\""
      ]
    },
    {
      "cell_type": "code",
      "execution_count": null,
      "metadata": {
        "colab": {
          "base_uri": "https://localhost:8080/"
        },
        "id": "0DcJVv7z63GB",
        "outputId": "63f644ef-52f4-4e58-cb94-aa4bce3c7934"
      },
      "outputs": [
        {
          "output_type": "stream",
          "name": "stdout",
          "text": [
            "\n",
            " CONFUSION MATRIX:\n",
            "  [[114738      0]\n",
            " [  4305      0]] \n",
            "\n",
            "Recall score :  0.0\n",
            "Precision score: 0.0\n",
            "Accuracyscore:  0.964\n",
            "ROC AUC Score:  0.5\n",
            "F1 score:  0.0\n",
            "\n",
            " CLASSIFICATION REPORT: \n",
            "               precision    recall  f1-score   support\n",
            "\n",
            "           0       0.96      1.00      0.98    114738\n",
            "           1       0.00      0.00      0.00      4305\n",
            "\n",
            "    accuracy                           0.96    119043\n",
            "   macro avg       0.48      0.50      0.49    119043\n",
            "weighted avg       0.93      0.96      0.95    119043\n",
            "\n"
          ]
        }
      ],
      "source": [
        "#1.The Simple Logistic Regression Model seems to have high accuracy. Is that what we need at all? What is the problem with this model?\n",
        "x= train.drop(['target','id'], axis=1)\n",
        "y= train['target']\n",
        "x_train, x_test, y_train, y_test = train_test_split(x,y, test_size=0.2, random_state=33)\n",
        "\n",
        "lr= LogisticRegression()\n",
        "lr.fit(x_train, y_train)\n",
        "y_pred = lr.predict(x_test)\n",
        "#accuracy_result(y_test,y_pred)\n",
        "confusion_matrix=metrics.confusion_matrix(y_test, y_pred)\n",
        "print('\\n CONFUSION MATRIX:\\n ', confusion_matrix,'\\n')\n",
        "print('Recall score : ', round(metrics.recall_score(y_test, y_pred), 3))\n",
        "print('Precision score:' ,round(metrics.precision_score(y_test,y_pred), 3))\n",
        "print('Accuracyscore: ', np.round(metrics.accuracy_score(y_test, y_pred),3))\n",
        "print('ROC AUC Score: ', np.round(roc_auc_score(y_test, y_pred),3))\n",
        "print('F1 score: ', np.round(f1_score(y_test, y_pred),3))\n",
        "print('\\n CLASSIFICATION REPORT: \\n',classification_report(y_test,y_pred))"
      ]
    },
    {
      "cell_type": "markdown",
      "metadata": {
        "id": "GTedz7ew-tXC"
      },
      "source": [
        "the data is higly imbalanced.\n"
      ]
    },
    {
      "cell_type": "markdown",
      "metadata": {
        "id": "Za5i8KpR-kE6"
      },
      "source": [
        "**#2. Why do you think f1-score is 0.0?**\n",
        "\n",
        "**f1 score** \n",
        "It is the measaure of accuracy.\n",
        "It is the weighted average of precision & recall (The F1 score is defined as the harmonic mean of precision and recall).\n",
        "the f1 score is between 0 & 1.\n",
        "If f1 score is 0=worst & 1= best model.\n",
        "f1=(2TP)/(2TP+FP+FN)\n",
        "\n",
        "**Precision:** \n",
        "The +ve predicted values(no. of +ve class predicted that actually belon to a +ve class).\n",
        "it is a quality measure.\n",
        "Precision=TP/(TP+FP)\n",
        "\n",
        "**Recall:**\n",
        "It represent the sensitivity(no. of +ve predicted class to all the observations in actual class.\n",
        "It is the quantity measure.\n",
        "Recall=TP/(TP+FN)\n",
        "\n",
        "**Accuracy:**\n",
        "It is the measures the number of predictions that are correct as a percentage of the total number of predictions that are made.\n",
        "Accuracy=(TP+TN)/(TP+FN+FP+TN)\n",
        "\n",
        "\n",
        "\n",
        "\n",
        "\n"
      ]
    },
    {
      "cell_type": "markdown",
      "source": [
        "**#3. What is the precision and recall score for the model?**\n",
        "Recall score :  0.0\n",
        "Precision score: 0.0"
      ],
      "metadata": {
        "id": "G4hXrT65tn5S"
      }
    },
    {
      "cell_type": "code",
      "execution_count": null,
      "metadata": {
        "id": "BatYIa0mFfy0"
      },
      "outputs": [],
      "source": [
        "X= data.drop(['target','id'], axis=1)\n",
        "Y= data['target']\n",
        "from sklearn.model_selection import train_test_split \n",
        "X_Train,X_Test,Y_Train,Y_Test = train_test_split(X,Y, test_size = 0.3,random_state = 1)"
      ]
    },
    {
      "cell_type": "code",
      "execution_count": null,
      "metadata": {
        "id": "OqbfAYKaFqo5"
      },
      "outputs": [],
      "source": [
        "from sklearn.preprocessing import StandardScaler\n",
        "scaler = StandardScaler()\n",
        "scaler.fit(X_Train)\n",
        "X_Train = scaler.transform(X_Train)\n",
        "X_Test = scaler.transform(X_Test)"
      ]
    },
    {
      "cell_type": "code",
      "execution_count": null,
      "metadata": {
        "colab": {
          "base_uri": "https://localhost:8080/"
        },
        "id": "C1fQHzICGBnp",
        "outputId": "05d845b4-61c5-4354-bc2e-246ad0721afe"
      },
      "outputs": [
        {
          "output_type": "stream",
          "name": "stdout",
          "text": [
            "\n",
            " CONFUSION MATRIX:\n",
            "  [[108037  64256]\n",
            " [ 77249  94569]] \n",
            "\n",
            "Recall score :  0.55\n",
            "Precision score: 0.595\n",
            "Accuracyscore:  0.589\n",
            "ROC AUC Score:  0.589\n",
            "F1 score:  0.572\n",
            "\n",
            " CLASSIFICATION REPORT: \n",
            "               precision    recall  f1-score   support\n",
            "\n",
            "           0       0.58      0.63      0.60    172293\n",
            "           1       0.60      0.55      0.57    171818\n",
            "\n",
            "    accuracy                           0.59    344111\n",
            "   macro avg       0.59      0.59      0.59    344111\n",
            "weighted avg       0.59      0.59      0.59    344111\n",
            "\n"
          ]
        }
      ],
      "source": [
        "lr = LogisticRegression()\n",
        "lr.fit(X_Train, Y_Train)\n",
        "\n",
        "y_pred_train = lr.predict(X_Train)\n",
        "y_pred_logreg2 =lr.predict(X_Test)\n",
        "\n",
        "## 3. Using function for evaluating the model output\n",
        "\n",
        "#accuracy_result(Y_Test, y_pred_logreg2)\n",
        "confusion_matrix=metrics.confusion_matrix(Y_Test, y_pred_logreg2)\n",
        "print('\\n CONFUSION MATRIX:\\n ', confusion_matrix,'\\n')\n",
        "print('Recall score : ', round(metrics.recall_score(Y_Test, y_pred_logreg2), 3))\n",
        "print('Precision score:' ,round(metrics.precision_score(Y_Test, y_pred_logreg2), 3))\n",
        "print('Accuracyscore: ', np.round(metrics.accuracy_score(Y_Test, y_pred_logreg2),3))\n",
        "print('ROC AUC Score: ', np.round(roc_auc_score(Y_Test, y_pred_logreg2),3))\n",
        "print('F1 score: ', np.round(f1_score(Y_Test, y_pred_logreg2),3))\n",
        "print('\\n CLASSIFICATION REPORT: \\n',classification_report(Y_Test, y_pred_logreg2))"
      ]
    },
    {
      "cell_type": "markdown",
      "source": [
        "**#4. What is the most important inference you can draw from the result?**\n",
        "**Before resampling**\n",
        "\n",
        "Recall score :  0.0\n",
        "Precision score: 0.0\n",
        "Accuracyscore:  0.964\n",
        "ROC AUC Score:  0.5\n",
        "F1 score:  0.0\n",
        "\n",
        "**#After resampling**\n",
        "\n",
        "Recall score :  0.55\n",
        "Precision score: 0.595\n",
        "Accuracyscore:  0.589\n",
        "ROC AUC Score:  0.589\n",
        "F1 score:  0.572\n",
        "\n",
        "The accuracy score has been reduced and f1 score, Recall, Precision has been increased."
      ],
      "metadata": {
        "id": "dz4tUnx7vE8U"
      }
    },
    {
      "cell_type": "markdown",
      "source": [
        "**#5. What is the accuracy score and f1-score for the improved Logistic Regression model?**\n",
        "\n",
        "F1 score:  0  -before resampling\n",
        "\n",
        "F1 score:  0.572  -after resampling"
      ],
      "metadata": {
        "id": "m_qtL4_zvW75"
      }
    },
    {
      "cell_type": "markdown",
      "metadata": {
        "id": "EK08nFkTuf-d"
      },
      "source": [
        "**#6. Why do you think f1-score has improved?**\n",
        "\n",
        "f1=(2TP)/(2TP+FP+FN)\n",
        "since the f1 score is dependent o the TP, FP, FN since the values has been increased after resamplin the f1 score was imporoved. "
      ]
    },
    {
      "cell_type": "markdown",
      "source": [
        "**#7. For model LinearSVC play with parameters – dual, max_iter and see if there is any improvement**"
      ],
      "metadata": {
        "id": "-ntgJUvqvnNI"
      }
    },
    {
      "cell_type": "code",
      "execution_count": null,
      "metadata": {
        "colab": {
          "base_uri": "https://localhost:8080/"
        },
        "id": "UtOvEVvf72Ch",
        "outputId": "4828156f-88f9-4dec-cca4-31caff724e51"
      },
      "outputs": [
        {
          "output_type": "stream",
          "name": "stdout",
          "text": [
            "\n",
            " CONFUSION MATRIX:\n",
            "  [[108305  63988]\n",
            " [ 77743  94075]] \n",
            "\n",
            "Recall score :  0.548\n",
            "Precision score: 0.595\n",
            "Accuracyscore:  0.588\n",
            "ROC AUC Score:  0.588\n",
            "F1 score:  0.57\n",
            "\n",
            " CLASSIFICATION REPORT: \n",
            "               precision    recall  f1-score   support\n",
            "\n",
            "           0       0.58      0.63      0.60    172293\n",
            "           1       0.60      0.55      0.57    171818\n",
            "\n",
            "    accuracy                           0.59    344111\n",
            "   macro avg       0.59      0.59      0.59    344111\n",
            "weighted avg       0.59      0.59      0.59    344111\n",
            "\n"
          ]
        }
      ],
      "source": [
        "from sklearn.svm import LinearSVC\n",
        "lsvc=LinearSVC()\n",
        "lsvc.fit(X_Train, Y_Train)\n",
        "Y_pred = lsvc.predict(X_Test)\n",
        "confusion_matrix=metrics.confusion_matrix(Y_Test,Y_pred)\n",
        "print('\\n CONFUSION MATRIX:\\n ', confusion_matrix,'\\n')\n",
        "print('Recall score : ', round(metrics.recall_score(Y_Test,Y_pred), 3))\n",
        "print('Precision score:' ,round(metrics.precision_score(Y_Test,Y_pred), 3))\n",
        "print('Accuracyscore: ', np.round(metrics.accuracy_score(Y_Test,Y_pred),3))\n",
        "print('ROC AUC Score: ', np.round(roc_auc_score(Y_Test,Y_pred),3))\n",
        "print('F1 score: ', np.round(f1_score(Y_Test,Y_pred),3))\n",
        "print('\\n CLASSIFICATION REPORT: \\n',classification_report(Y_Test,Y_pred))"
      ]
    },
    {
      "cell_type": "code",
      "source": [
        "from sklearn.svm import LinearSVC\n",
        "lsvc=LinearSVC(dual=True, max_iter=500)\n",
        "lsvc.fit(X_Train, Y_Train)\n",
        "Y_pred = lsvc.predict(X_Test)\n",
        "confusion_matrix=metrics.confusion_matrix(Y_Test,Y_pred)\n",
        "print('\\n CONFUSION MATRIX:\\n ', confusion_matrix,'\\n')\n",
        "print('Recall score : ', round(metrics.recall_score(Y_Test,Y_pred), 3))\n",
        "print('Precision score:' ,round(metrics.precision_score(Y_Test,Y_pred), 3))\n",
        "print('Accuracyscore: ', np.round(metrics.accuracy_score(Y_Test,Y_pred),3))\n",
        "print('ROC AUC Score: ', np.round(roc_auc_score(Y_Test,Y_pred),3))\n",
        "print('F1 score: ', np.round(f1_score(Y_Test,Y_pred),3))\n",
        "print('\\n CLASSIFICATION REPORT: \\n',classification_report(Y_Test,Y_pred))"
      ],
      "metadata": {
        "colab": {
          "base_uri": "https://localhost:8080/"
        },
        "id": "QgtSXspqzmaK",
        "outputId": "19aebd4f-33e5-49f4-af1f-0803b97a0571"
      },
      "execution_count": null,
      "outputs": [
        {
          "output_type": "stream",
          "name": "stdout",
          "text": [
            "\n",
            " CONFUSION MATRIX:\n",
            "  [[108366  63927]\n",
            " [ 77952  93866]] \n",
            "\n",
            "Recall score :  0.546\n",
            "Precision score: 0.595\n",
            "Accuracyscore:  0.588\n",
            "ROC AUC Score:  0.588\n",
            "F1 score:  0.57\n",
            "\n",
            " CLASSIFICATION REPORT: \n",
            "               precision    recall  f1-score   support\n",
            "\n",
            "           0       0.58      0.63      0.60    172293\n",
            "           1       0.59      0.55      0.57    171818\n",
            "\n",
            "    accuracy                           0.59    344111\n",
            "   macro avg       0.59      0.59      0.59    344111\n",
            "weighted avg       0.59      0.59      0.59    344111\n",
            "\n"
          ]
        }
      ]
    },
    {
      "cell_type": "markdown",
      "source": [
        "with the dual & max_iter the recal score was reduced(from 0.548 to 0.546) very slightly, except that no much improvement in other values."
      ],
      "metadata": {
        "id": "EDveTtJY2zg_"
      }
    },
    {
      "cell_type": "markdown",
      "source": [
        "**#8. SVC with Imbalance Check & Feature Optimization & only 100K Records → is there improvement in scores?**"
      ],
      "metadata": {
        "id": "3RIOjXQBxrMp"
      }
    },
    {
      "cell_type": "code",
      "execution_count": null,
      "metadata": {
        "id": "tQg9wyxuvDbl",
        "colab": {
          "base_uri": "https://localhost:8080/"
        },
        "outputId": "0ebf6994-896b-499a-eced-91d79a6fa7f9"
      },
      "outputs": [
        {
          "output_type": "stream",
          "name": "stdout",
          "text": [
            "\n",
            " CONFUSION MATRIX:\n",
            "  [[113142  59151]\n",
            " [ 83723  88095]] \n",
            "\n",
            "Recall score :  0.513\n",
            "Precision score: 0.598\n",
            "Accuracyscore:  0.585\n",
            "ROC AUC Score:  0.585\n",
            "F1 score:  0.552\n",
            "\n",
            " CLASSIFICATION REPORT: \n",
            "               precision    recall  f1-score   support\n",
            "\n",
            "           0       0.57      0.66      0.61    172293\n",
            "           1       0.60      0.51      0.55    171818\n",
            "\n",
            "    accuracy                           0.58    344111\n",
            "   macro avg       0.59      0.58      0.58    344111\n",
            "weighted avg       0.59      0.58      0.58    344111\n",
            "\n"
          ]
        }
      ],
      "source": [
        "#SVC\n",
        "from sklearn import svm\n",
        "x_=X_Train[:10000,:]\n",
        "y_=Y_Train[:10000]\n",
        "\n",
        "clf = svm.SVC(kernel='linear')\n",
        "clf.fit(x_, y_)\n",
        "# y_pred_train = clf.predict(X_train)\n",
        "Y_pred_svc= clf.predict(X_Test)\n",
        "confusion_matrix=metrics.confusion_matrix(Y_Test, Y_pred_svc)\n",
        "print('\\n CONFUSION MATRIX:\\n ', confusion_matrix,'\\n')\n",
        "print('Recall score : ', round(metrics.recall_score(Y_Test, Y_pred_svc), 3))\n",
        "print('Precision score:' ,round(metrics.precision_score(Y_Test, Y_pred_svc), 3))\n",
        "print('Accuracyscore: ', np.round(metrics.accuracy_score(Y_Test, Y_pred_svc),3))\n",
        "print('ROC AUC Score: ', np.round(roc_auc_score(Y_Test, Y_pred_svc),3))\n",
        "print('F1 score: ', np.round(f1_score(Y_Test, Y_pred_svc),3))\n",
        "print('\\n CLASSIFICATION REPORT: \\n',classification_report(Y_Test, Y_pred_svc))"
      ]
    },
    {
      "cell_type": "code",
      "execution_count": null,
      "metadata": {
        "id": "6HJf-FXy7tv8",
        "colab": {
          "base_uri": "https://localhost:8080/"
        },
        "outputId": "a2877dac-ca85-46cc-e1e9-9c43d8d27114"
      },
      "outputs": [
        {
          "output_type": "stream",
          "name": "stdout",
          "text": [
            "\n",
            " CONFUSION MATRIX:\n",
            "  [[145553  26740]\n",
            " [ 30344 141474]] \n",
            "\n",
            "Recall score :  0.823\n",
            "Precision score: 0.841\n",
            "Accuracyscore:  0.834\n",
            "ROC AUC Score:  0.834\n",
            "F1 score:  0.832\n",
            "\n",
            " CLASSIFICATION REPORT: \n",
            "               precision    recall  f1-score   support\n",
            "\n",
            "           0       0.83      0.84      0.84    172293\n",
            "           1       0.84      0.82      0.83    171818\n",
            "\n",
            "    accuracy                           0.83    344111\n",
            "   macro avg       0.83      0.83      0.83    344111\n",
            "weighted avg       0.83      0.83      0.83    344111\n",
            "\n"
          ]
        }
      ],
      "source": [
        "#9. XGBoost is one the better classifiers -- but still f1-score is very low. What could be the reason?\n",
        "#XGBoost (Extreme Gradient Boosting) \n",
        "import xgboost\n",
        "from xgboost import XGBClassifier\n",
        "xgbc=XGBClassifier(objective='binary:logistic', colsample_bytree = 0.3, learning_rate = 0.1, max_depth = 10, alpha = 10, n_estimators = 100)\n",
        "xgbc.fit(X_Train, Y_Train)\n",
        "Y_pred_xgbc= xgbc.predict(X_Test)\n",
        "confusion_matrix=metrics.confusion_matrix(Y_Test, Y_pred_xgbc)\n",
        "print('\\n CONFUSION MATRIX:\\n ', confusion_matrix,'\\n')\n",
        "print('Recall score : ', round(metrics.recall_score(Y_Test, Y_pred_xgbc), 3))\n",
        "print('Precision score:' ,round(metrics.precision_score(Y_Test, Y_pred_xgbc), 3))\n",
        "print('Accuracyscore: ', np.round(metrics.accuracy_score(Y_Test, Y_pred_xgbc),3))\n",
        "print('ROC AUC Score: ', np.round(roc_auc_score(Y_Test, Y_pred_xgbc),3))\n",
        "print('F1 score: ', np.round(f1_score(Y_Test, Y_pred_xgbc),3))\n",
        "print('\\n CLASSIFICATION REPORT: \\n',classification_report(Y_Test, Y_pred_xgbc))"
      ]
    },
    {
      "cell_type": "markdown",
      "source": [
        "**#10. What is the increase in number of features after one-hot encoding of the data?**\n",
        "\n",
        "**#11. Is there any improvement in scores after encoding?**\n",
        "\n",
        "\n",
        "1.   to convert to the catergorical data to 0 & 1.\n",
        "\n",
        "\n",
        "2.   Since in the given data there is no categorical features so ne need to apply the hot encoding\n",
        "\n",
        "\n",
        "*   If there is categorical features then we can use the following ways to convert them to numerical data.\n",
        "\n",
        "\n",
        "*   since encoding was not done so any improvevment in the score cant be defined.\n",
        "\n"
      ],
      "metadata": {
        "id": "xPViQF5P2NO6"
      }
    },
    {
      "cell_type": "markdown",
      "source": [
        "**#12. If not missing a positive sample is the priority which model is best so far?**\n",
        "\n",
        " In the above the xgboost is the best becaude it has the highest f1 score of 0.832. if f1 score is nearer to 1 hen it is the best model.\n",
        " \n",
        "  the missing positive values for this confusion matrix is less compared to other models."
      ],
      "metadata": {
        "id": "I2vCMCndAcim"
      }
    },
    {
      "cell_type": "markdown",
      "source": [
        "**#13. If not marking negative sample as positive is top priority, which model is best so far?**\n",
        "\n",
        "\n",
        " In the above the xgboost is the best becaude it has the highest f1 score of 0.832. if f1 score is nearer to 1 hen it is the best model.\n",
        " \n",
        "the missing negative values for this confusion matrix is less compared to other models.\n",
        "\n"
      ],
      "metadata": {
        "id": "lDmlaS-SBhBE"
      }
    },
    {
      "cell_type": "code",
      "execution_count": null,
      "metadata": {
        "id": "F_teFx0K7MXQ",
        "colab": {
          "base_uri": "https://localhost:8080/"
        },
        "outputId": "cbd11aad-8d39-41bf-c9ce-90ffc011ef2d"
      },
      "outputs": [
        {
          "output_type": "stream",
          "name": "stdout",
          "text": [
            "\n",
            " CONFUSION MATRIX:\n",
            "  [[106422  65871]\n",
            " [ 72806  99012]] \n",
            "\n",
            "Recall score :  0.576\n",
            "Precision score: 0.6\n",
            "Accuracyscore:  0.597\n",
            "ROC AUC Score:  0.597\n",
            "F1 score:  0.588\n",
            "\n",
            " CLASSIFICATION REPORT: \n",
            "               precision    recall  f1-score   support\n",
            "\n",
            "           0       0.59      0.62      0.61    172293\n",
            "           1       0.60      0.58      0.59    171818\n",
            "\n",
            "    accuracy                           0.60    344111\n",
            "   macro avg       0.60      0.60      0.60    344111\n",
            "weighted avg       0.60      0.60      0.60    344111\n",
            "\n"
          ]
        }
      ],
      "source": [
        "#14. Do you think using AdaBoost can give any significant improvement over XGBoost?\n",
        "from sklearn.ensemble import AdaBoostClassifier\n",
        "abc = AdaBoostClassifier(n_estimators=50, learning_rate=1, random_state=0)\n",
        "abc.fit(X_Train, Y_Train)\n",
        "Y_pred_abc= abc.predict(X_Test)\n",
        "confusion_matrix=metrics.confusion_matrix(Y_Test, Y_pred_abc)\n",
        "print('\\n CONFUSION MATRIX:\\n ', confusion_matrix,'\\n')\n",
        "print('Recall score : ', round(metrics.recall_score(Y_Test, Y_pred_abc), 3))\n",
        "print('Precision score:' ,round(metrics.precision_score(Y_Test, Y_pred_abc), 3))\n",
        "print('Accuracyscore: ', np.round(metrics.accuracy_score(Y_Test, Y_pred_abc),3))\n",
        "print('ROC AUC Score: ', np.round(roc_auc_score(Y_Test, Y_pred_abc),3))\n",
        "print('F1 score: ', np.round(f1_score(Y_Test, Y_pred_abc),3))\n",
        "print('\\n CLASSIFICATION REPORT: \\n',classification_report(Y_Test, Y_pred_abc))\n"
      ]
    },
    {
      "cell_type": "markdown",
      "source": [
        "xgboost is the best than the adaboost due to the highest f1 score"
      ],
      "metadata": {
        "id": "F84swLwUBwaU"
      }
    },
    {
      "cell_type": "code",
      "execution_count": null,
      "metadata": {
        "id": "ZGo6yePu63Mw",
        "colab": {
          "base_uri": "https://localhost:8080/"
        },
        "outputId": "03ea0bc7-25c4-4aea-8726-68386737b045"
      },
      "outputs": [
        {
          "output_type": "stream",
          "name": "stdout",
          "text": [
            "\n",
            " CONFUSION MATRIX:\n",
            "  [[106422  65871]\n",
            " [ 72806  99012]] \n",
            "\n",
            "Recall score :  0.576\n",
            "Precision score: 0.6\n",
            "Accuracyscore:  0.597\n",
            "ROC AUC Score:  0.597\n",
            "F1 score:  0.588\n",
            "\n",
            " CLASSIFICATION REPORT: \n",
            "               precision    recall  f1-score   support\n",
            "\n",
            "           0       0.59      0.62      0.61    172293\n",
            "           1       0.60      0.58      0.59    171818\n",
            "\n",
            "    accuracy                           0.60    344111\n",
            "   macro avg       0.60      0.60      0.60    344111\n",
            "weighted avg       0.60      0.60      0.60    344111\n",
            "\n"
          ]
        }
      ],
      "source": [
        "#15.MLPClassifier is the neural network we are trying. But how to choose the right no. of layers  and size?\n",
        "from sklearn.neural_network import MLPClassifier\n",
        "mlp = MLPClassifier(hidden_layer_sizes=(10, 10, 10),activation='logistic', max_iter=200)\n",
        "mlp.fit(X_Train, Y_Train.values.ravel())\n",
        "Y_pred_mlp= abc.predict(X_Test)\n",
        "confusion_matrix=metrics.confusion_matrix(Y_Test, Y_pred_mlp)\n",
        "print('\\n CONFUSION MATRIX:\\n ', confusion_matrix,'\\n')\n",
        "print('Recall score : ', round(metrics.recall_score(Y_Test, Y_pred_mlp), 3))\n",
        "print('Precision score:' ,round(metrics.precision_score(Y_Test, Y_pred_mlp), 3))\n",
        "print('Accuracyscore: ', np.round(metrics.accuracy_score(Y_Test, Y_pred_mlp),3))\n",
        "print('ROC AUC Score: ', np.round(roc_auc_score(Y_Test, Y_pred_mlp),3))\n",
        "print('F1 score: ', np.round(f1_score(Y_Test, Y_pred_mlp),3))\n",
        "print('\\n CLASSIFICATION REPORT: \\n',classification_report(Y_Test, Y_pred_mlp))"
      ]
    },
    {
      "cell_type": "code",
      "execution_count": null,
      "metadata": {
        "id": "lp3voSE263JH",
        "colab": {
          "base_uri": "https://localhost:8080/"
        },
        "outputId": "80a4752c-0b30-4634-b3a3-04929eaf34ab"
      },
      "outputs": [
        {
          "output_type": "stream",
          "name": "stdout",
          "text": [
            "Logistic Regression scores:\n",
            "Accuracyscore:  0.589\n",
            "F1 score:  0.572\n",
            "\n",
            " AdaBoostCassifier scores:\n",
            "Accuracyscore:  0.597\n",
            "F1 score:  0.588\n",
            "\n",
            " XGBClassifier scores\n",
            "Accuracyscore:  0.834\n",
            "F1 score:  0.832\n",
            "\n",
            " LinearSVC\n",
            "Accuracyscore:  0.588\n",
            "F1 score:  0.57\n",
            "\n",
            " MLPClassifier scores\n",
            "Accuracyscore:  0.597\n",
            "F1 score:  0.588\n"
          ]
        }
      ],
      "source": [
        "#16.At what layer size we get the best f1-score?\n",
        "print(\"Logistic Regression scores:\")\n",
        "print('Accuracyscore: ', np.round(metrics.accuracy_score(Y_Test, y_pred_logreg2),3))\n",
        "print('F1 score: ', np.round(f1_score(Y_Test, y_pred_logreg2),3))\n",
        "\n",
        "print(\"\\n AdaBoostCassifier scores:\")\n",
        "print('Accuracyscore: ', np.round(metrics.accuracy_score(Y_Test, Y_pred_abc),3))\n",
        "print('F1 score: ', np.round(f1_score(Y_Test, Y_pred_abc),3))\n",
        "\n",
        "print(\"\\n XGBClassifier scores\")\n",
        "print('Accuracyscore: ', np.round(metrics.accuracy_score(Y_Test, Y_pred_xgbc),3))\n",
        "print('F1 score: ', np.round(f1_score(Y_Test, Y_pred_xgbc),3))\n",
        "\n",
        "print(\"\\n LinearSVC\")\n",
        "print('Accuracyscore: ', np.round(metrics.accuracy_score(Y_Test,Y_pred),3))\n",
        "print('F1 score: ', np.round(f1_score(Y_Test,Y_pred),3))\n",
        "\n",
        "print(\"\\n MLPClassifier scores\")\n",
        "print('Accuracyscore: ', np.round(metrics.accuracy_score(Y_Test, Y_pred_mlp),3))\n",
        "print('F1 score: ', np.round(f1_score(Y_Test, Y_pred_mlp),3))"
      ]
    },
    {
      "cell_type": "markdown",
      "source": [
        "After comparing the results the XGBClassifier is the best out of all."
      ],
      "metadata": {
        "id": "_6eUi0pODirH"
      }
    }
  ],
  "metadata": {
    "colab": {
      "provenance": [],
      "collapsed_sections": [],
      "authorship_tag": "ABX9TyOspO6AFQDll3X+dSMaE1uI",
      "include_colab_link": true
    },
    "kernelspec": {
      "display_name": "Python 3",
      "name": "python3"
    },
    "language_info": {
      "name": "python"
    }
  },
  "nbformat": 4,
  "nbformat_minor": 0
}